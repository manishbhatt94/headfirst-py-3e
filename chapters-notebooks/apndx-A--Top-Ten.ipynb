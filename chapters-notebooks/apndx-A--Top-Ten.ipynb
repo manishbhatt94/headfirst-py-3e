{
 "cells": [
  {
   "cell_type": "code",
   "execution_count": null,
   "id": "7b7c1a8e",
   "metadata": {},
   "outputs": [
    {
     "ename": "ZeroDivisionError",
     "evalue": "division by zero",
     "output_type": "error",
     "traceback": [
      "\u001b[31m---------------------------------------------------------------------------\u001b[39m",
      "\u001b[31mZeroDivisionError\u001b[39m                         Traceback (most recent call last)",
      "\u001b[36mCell\u001b[39m\u001b[36m \u001b[39m\u001b[32mIn[1]\u001b[39m\u001b[32m, line 1\u001b[39m\n\u001b[32m----> \u001b[39m\u001b[32m1\u001b[39m \u001b[32;43m1\u001b[39;49m\u001b[43m \u001b[49m\u001b[43m/\u001b[49m\u001b[43m \u001b[49m\u001b[32;43m0\u001b[39;49m\n",
      "\u001b[31mZeroDivisionError\u001b[39m: division by zero"
     ]
    }
   ],
   "source": [
    "# Buid-up code for Exception Handling\n",
    "1 / 0"
   ]
  },
  {
   "cell_type": "code",
   "execution_count": null,
   "id": "2dd78441",
   "metadata": {},
   "outputs": [
    {
     "name": "stdout",
     "output_type": "stream",
     "text": [
      "It's the end of our world as we know it!\n"
     ]
    }
   ],
   "source": [
    "# Exception Handling\n",
    "try:\n",
    "    1 / 0\n",
    "except ZeroDivisionError:\n",
    "    print(\"It's the end of our world as we know it!\")\n",
    "except:\n",
    "    print(\"Something else has gone terribly wrong (gulp).\")"
   ]
  },
  {
   "cell_type": "code",
   "execution_count": null,
   "id": "2e3b335d",
   "metadata": {},
   "outputs": [
    {
     "name": "stdout",
     "output_type": "stream",
     "text": [
      "7 is five or greater.\n"
     ]
    }
   ],
   "source": [
    "# Buid-up code for Walrus Operator\n",
    "import random\n",
    "\n",
    "x = random.randint(0, 10)\n",
    "\n",
    "if x < 5:\n",
    "    print(f\"{x} is less than five!\")\n",
    "else:\n",
    "    print(f\"{x} is five or greater.\")"
   ]
  },
  {
   "cell_type": "code",
   "execution_count": 10,
   "id": "81325018",
   "metadata": {},
   "outputs": [
    {
     "name": "stdout",
     "output_type": "stream",
     "text": [
      "4 is less than five!\n"
     ]
    }
   ],
   "source": [
    "# \"Assignment Expression\" or \"The Walrus Operator\" ( := ) in action\n",
    "if (x := random.randint(0, 10)) < 5:\n",
    "    print(f\"{x} is less than five!\")\n",
    "else:\n",
    "    print(f\"{x} is five or greater.\")"
   ]
  },
  {
   "cell_type": "code",
   "execution_count": 11,
   "id": "869174bc",
   "metadata": {},
   "outputs": [
    {
     "name": "stdout",
     "output_type": "stream",
     "text": [
      "You look like a lowercase a.\n"
     ]
    }
   ],
   "source": [
    "# Buid-up code for \"switch\" (known as \"match\" in Python) statement\n",
    "thing = \"a\"\n",
    "\n",
    "if thing == 1:\n",
    "    print(\"You look like a 1.\")\n",
    "elif thing == \"A\":\n",
    "    print(\"You look like an UPPERCASE A.\")\n",
    "elif thing == \"a\":\n",
    "    print(\"You look like a lowercase a.\")\n",
    "else:\n",
    "    print(\"We've no idea what you are.\")"
   ]
  },
  {
   "cell_type": "code",
   "execution_count": 12,
   "id": "f40dfee0",
   "metadata": {},
   "outputs": [
    {
     "name": "stdout",
     "output_type": "stream",
     "text": [
      "You look like a lowercase a.\n"
     ]
    }
   ],
   "source": [
    "# \"match\" statement in Python (\"switch\" in other langs)\n",
    "thing = \"a\"\n",
    "\n",
    "match thing:\n",
    "    case 1:\n",
    "        print(\"You look like a 1.\")\n",
    "    case \"A\":\n",
    "        print(\"You look like an UPPERCASE A.\")\n",
    "    case \"a\":\n",
    "        print(\"You look like a lowercase a.\")\n",
    "    case _:\n",
    "        print(\"We've no idea what you are.\")"
   ]
  },
  {
   "cell_type": "code",
   "execution_count": null,
   "id": "be1dc84a",
   "metadata": {},
   "outputs": [],
   "source": []
  }
 ],
 "metadata": {
  "kernelspec": {
   "display_name": "jupyter",
   "language": "python",
   "name": "python3"
  },
  "language_info": {
   "codemirror_mode": {
    "name": "ipython",
    "version": 3
   },
   "file_extension": ".py",
   "mimetype": "text/x-python",
   "name": "python",
   "nbconvert_exporter": "python",
   "pygments_lexer": "ipython3",
   "version": "3.12.3"
  }
 },
 "nbformat": 4,
 "nbformat_minor": 5
}
