{
 "cells": [
  {
   "cell_type": "code",
   "execution_count": 1,
   "id": "36636fd6",
   "metadata": {},
   "outputs": [
    {
     "data": {
      "text/plain": [
       "[0, 1, 2, 3]"
      ]
     },
     "execution_count": 1,
     "metadata": {},
     "output_type": "execute_result"
    }
   ],
   "source": [
    "nums = [0, 1, 2, 3, 4, 5, 6, 7, 8, 9]\n",
    "nums[0:4]"
   ]
  },
  {
   "cell_type": "code",
   "execution_count": 2,
   "id": "53e6cff9",
   "metadata": {},
   "outputs": [
    {
     "data": {
      "text/plain": [
       "[0, 1, 2, 3, 4, 5, 6, 7, 8, 9]"
      ]
     },
     "execution_count": 2,
     "metadata": {},
     "output_type": "execute_result"
    }
   ],
   "source": [
    "nums"
   ]
  },
  {
   "cell_type": "code",
   "execution_count": 3,
   "id": "22a96535",
   "metadata": {},
   "outputs": [
    {
     "data": {
      "text/plain": [
       "\"My name's Marvin\""
      ]
     },
     "execution_count": 3,
     "metadata": {},
     "output_type": "execute_result"
    }
   ],
   "source": [
    "msg = \"My name's Marvin, and I'm depressed.\"\n",
    "msg[:16]"
   ]
  },
  {
   "cell_type": "code",
   "execution_count": 4,
   "id": "35a4cbb0",
   "metadata": {},
   "outputs": [],
   "source": [
    "fav = \"Life, the Universe and Everything.\""
   ]
  },
  {
   "cell_type": "code",
   "execution_count": 5,
   "id": "f61f8981",
   "metadata": {},
   "outputs": [
    {
     "data": {
      "text/plain": [
       "('L', 'i')"
      ]
     },
     "execution_count": 5,
     "metadata": {},
     "output_type": "execute_result"
    }
   ],
   "source": [
    "fav[0], fav[1]"
   ]
  },
  {
   "cell_type": "code",
   "execution_count": 6,
   "id": "56820e74",
   "metadata": {},
   "outputs": [
    {
     "data": {
      "text/plain": [
       "('.', 'g')"
      ]
     },
     "execution_count": 6,
     "metadata": {},
     "output_type": "execute_result"
    }
   ],
   "source": [
    "fav[-1], fav[-2]"
   ]
  },
  {
   "cell_type": "code",
   "execution_count": 7,
   "id": "44eec859",
   "metadata": {},
   "outputs": [
    {
     "data": {
      "text/plain": [
       "'L'"
      ]
     },
     "execution_count": 7,
     "metadata": {},
     "output_type": "execute_result"
    }
   ],
   "source": [
    "fav[-1 * len(fav)]"
   ]
  },
  {
   "cell_type": "code",
   "execution_count": 8,
   "id": "ac58c210",
   "metadata": {},
   "outputs": [
    {
     "data": {
      "text/plain": [
       "'Life'"
      ]
     },
     "execution_count": 8,
     "metadata": {},
     "output_type": "execute_result"
    }
   ],
   "source": [
    "fav[0:4]"
   ]
  },
  {
   "cell_type": "code",
   "execution_count": 9,
   "id": "273be4c8",
   "metadata": {},
   "outputs": [
    {
     "data": {
      "text/plain": [
       "'Universe'"
      ]
     },
     "execution_count": 9,
     "metadata": {},
     "output_type": "execute_result"
    }
   ],
   "source": [
    "fav[10:18]"
   ]
  },
  {
   "cell_type": "code",
   "execution_count": 10,
   "id": "65dbe44e",
   "metadata": {},
   "outputs": [
    {
     "data": {
      "text/plain": [
       "'Universe'"
      ]
     },
     "execution_count": 10,
     "metadata": {},
     "output_type": "execute_result"
    }
   ],
   "source": [
    "fav[10:18]"
   ]
  },
  {
   "cell_type": "code",
   "execution_count": 11,
   "id": "fe9d57b4",
   "metadata": {},
   "outputs": [
    {
     "data": {
      "text/plain": [
       "'Everything'"
      ]
     },
     "execution_count": 11,
     "metadata": {},
     "output_type": "execute_result"
    }
   ],
   "source": [
    "fav[23:33]"
   ]
  },
  {
   "cell_type": "code",
   "execution_count": 12,
   "id": "9822df7b",
   "metadata": {},
   "outputs": [
    {
     "data": {
      "text/plain": [
       "'Everything'"
      ]
     },
     "execution_count": 12,
     "metadata": {},
     "output_type": "execute_result"
    }
   ],
   "source": [
    "fav[23:-1]"
   ]
  },
  {
   "cell_type": "code",
   "execution_count": 13,
   "id": "dab9d397",
   "metadata": {},
   "outputs": [
    {
     "data": {
      "text/plain": [
       "'Life'"
      ]
     },
     "execution_count": 13,
     "metadata": {},
     "output_type": "execute_result"
    }
   ],
   "source": [
    "fav[:4]"
   ]
  },
  {
   "cell_type": "code",
   "execution_count": 14,
   "id": "9f23ce1d",
   "metadata": {},
   "outputs": [
    {
     "data": {
      "text/plain": [
       "'Everything.'"
      ]
     },
     "execution_count": 14,
     "metadata": {},
     "output_type": "execute_result"
    }
   ],
   "source": [
    "fav[23:]"
   ]
  },
  {
   "cell_type": "code",
   "execution_count": 15,
   "id": "93bf2cc9",
   "metadata": {},
   "outputs": [
    {
     "data": {
      "text/plain": [
       "'Everything'"
      ]
     },
     "execution_count": 15,
     "metadata": {},
     "output_type": "execute_result"
    }
   ],
   "source": [
    "fav[-11:-1]"
   ]
  },
  {
   "cell_type": "code",
   "execution_count": 16,
   "id": "60696ded",
   "metadata": {},
   "outputs": [
    {
     "data": {
      "text/plain": [
       "'Everything.'"
      ]
     },
     "execution_count": 16,
     "metadata": {},
     "output_type": "execute_result"
    }
   ],
   "source": [
    "fav[-11:]"
   ]
  },
  {
   "cell_type": "code",
   "execution_count": 17,
   "id": "68b8db05",
   "metadata": {},
   "outputs": [
    {
     "data": {
      "text/plain": [
       "'Life, the Universe and Everything.'"
      ]
     },
     "execution_count": 17,
     "metadata": {},
     "output_type": "execute_result"
    }
   ],
   "source": [
    "fav[:]"
   ]
  },
  {
   "cell_type": "code",
   "execution_count": 18,
   "id": "e29d7644",
   "metadata": {},
   "outputs": [
    {
     "data": {
      "text/plain": [
       "\"My name's Marvin, and I'm depressed.\""
      ]
     },
     "execution_count": 18,
     "metadata": {},
     "output_type": "execute_result"
    }
   ],
   "source": [
    "msg"
   ]
  },
  {
   "cell_type": "code",
   "execution_count": 19,
   "id": "96970a3a",
   "metadata": {},
   "outputs": [
    {
     "data": {
      "text/plain": [
       "'M aesMri,adImdpesd'"
      ]
     },
     "execution_count": 19,
     "metadata": {},
     "output_type": "execute_result"
    }
   ],
   "source": [
    "msg[::2]"
   ]
  },
  {
   "cell_type": "code",
   "execution_count": 20,
   "id": "747567b6",
   "metadata": {},
   "outputs": [
    {
     "data": {
      "text/plain": [
       "'Mne rna meee'"
      ]
     },
     "execution_count": 20,
     "metadata": {},
     "output_type": "execute_result"
    }
   ],
   "source": [
    "msg[::3]"
   ]
  },
  {
   "cell_type": "code",
   "execution_count": 21,
   "id": "45b333a6",
   "metadata": {},
   "outputs": [
    {
     "data": {
      "text/plain": [
       "\".desserped m'I dna ,nivraM s'eman yM\""
      ]
     },
     "execution_count": 21,
     "metadata": {},
     "output_type": "execute_result"
    }
   ],
   "source": [
    "msg[::-1]"
   ]
  },
  {
   "cell_type": "code",
   "execution_count": 22,
   "id": "318e809a",
   "metadata": {},
   "outputs": [
    {
     "data": {
      "text/plain": [
       "\".esre ' n nva 'mny\""
      ]
     },
     "execution_count": 22,
     "metadata": {},
     "output_type": "execute_result"
    }
   ],
   "source": [
    "msg[::-2]"
   ]
  },
  {
   "cell_type": "code",
   "execution_count": 24,
   "id": "dc14ce14",
   "metadata": {},
   "outputs": [
    {
     "data": {
      "text/plain": [
       "'depressed.'"
      ]
     },
     "execution_count": 24,
     "metadata": {},
     "output_type": "execute_result"
    }
   ],
   "source": [
    "msg[-10:]"
   ]
  },
  {
   "cell_type": "code",
   "execution_count": 25,
   "id": "b4e3280c",
   "metadata": {},
   "outputs": [
    {
     "data": {
      "text/plain": [
       "''"
      ]
     },
     "execution_count": 25,
     "metadata": {},
     "output_type": "execute_result"
    }
   ],
   "source": [
    "msg[-10:0]"
   ]
  },
  {
   "cell_type": "code",
   "execution_count": 26,
   "id": "3bfe9c42",
   "metadata": {},
   "outputs": [
    {
     "data": {
      "text/plain": [
       "'.'"
      ]
     },
     "execution_count": 26,
     "metadata": {},
     "output_type": "execute_result"
    }
   ],
   "source": [
    "msg[-1:]"
   ]
  },
  {
   "cell_type": "code",
   "execution_count": 27,
   "id": "5765bd44",
   "metadata": {},
   "outputs": [
    {
     "data": {
      "text/plain": [
       "'d.'"
      ]
     },
     "execution_count": 27,
     "metadata": {},
     "output_type": "execute_result"
    }
   ],
   "source": [
    "msg[-2:]"
   ]
  },
  {
   "cell_type": "code",
   "execution_count": 28,
   "id": "a975efe9",
   "metadata": {},
   "outputs": [
    {
     "data": {
      "text/plain": [
       "'depressed'"
      ]
     },
     "execution_count": 28,
     "metadata": {},
     "output_type": "execute_result"
    }
   ],
   "source": [
    "msg[-10:-1]"
   ]
  },
  {
   "cell_type": "code",
   "execution_count": null,
   "id": "67284175",
   "metadata": {},
   "outputs": [],
   "source": []
  }
 ],
 "metadata": {
  "kernelspec": {
   "display_name": "jupyter",
   "language": "python",
   "name": "python3"
  },
  "language_info": {
   "codemirror_mode": {
    "name": "ipython",
    "version": 3
   },
   "file_extension": ".py",
   "mimetype": "text/x-python",
   "name": "python",
   "nbconvert_exporter": "python",
   "pygments_lexer": "ipython3",
   "version": "3.12.3"
  }
 },
 "nbformat": 4,
 "nbformat_minor": 5
}
