{
 "cells": [
  {
   "cell_type": "code",
   "execution_count": 1,
   "id": "df35b5c7",
   "metadata": {},
   "outputs": [
    {
     "name": "stdout",
     "output_type": "stream",
     "text": [
      "['SQL_CHART_DATA_BY_SWIMMER_EVENT_SESSION', 'SQL_SESSIONS', 'SQL_SWIMMERS_BY_SESSION', 'SQL_SWIMMERS_EVENTS_BY_SESSION', '__builtins__', '__cached__', '__doc__', '__file__', '__loader__', '__name__', '__package__', '__spec__']\n"
     ]
    }
   ],
   "source": [
    "import queries\n",
    "\n",
    "print(dir(queries))"
   ]
  },
  {
   "cell_type": "code",
   "execution_count": 2,
   "id": "70e388b7",
   "metadata": {},
   "outputs": [
    {
     "data": {
      "text/plain": [
       "['SQL_CHART_DATA_BY_SWIMMER_EVENT_SESSION',\n",
       " 'SQL_SESSIONS',\n",
       " 'SQL_SWIMMERS_BY_SESSION',\n",
       " 'SQL_SWIMMERS_EVENTS_BY_SESSION']"
      ]
     },
     "execution_count": 2,
     "metadata": {},
     "output_type": "execute_result"
    }
   ],
   "source": [
    "statements = []\n",
    "\n",
    "for query in dir(queries):\n",
    "    if not query.startswith(\"__\"):\n",
    "        statements.append(query)\n",
    "\n",
    "statements"
   ]
  },
  {
   "cell_type": "code",
   "execution_count": 3,
   "id": "19271135",
   "metadata": {},
   "outputs": [
    {
     "data": {
      "text/plain": [
       "['SQL_CHART_DATA_BY_SWIMMER_EVENT_SESSION',\n",
       " 'SQL_SESSIONS',\n",
       " 'SQL_SWIMMERS_BY_SESSION',\n",
       " 'SQL_SWIMMERS_EVENTS_BY_SESSION']"
      ]
     },
     "execution_count": 3,
     "metadata": {},
     "output_type": "execute_result"
    }
   ],
   "source": [
    "[sql for sql in dir(queries) if not sql.startswith(\"__\")]"
   ]
  },
  {
   "cell_type": "code",
   "execution_count": 4,
   "id": "e302b2fa",
   "metadata": {},
   "outputs": [
    {
     "data": {
      "text/plain": [
       "['append',\n",
       " 'clear',\n",
       " 'copy',\n",
       " 'count',\n",
       " 'extend',\n",
       " 'index',\n",
       " 'insert',\n",
       " 'pop',\n",
       " 'remove',\n",
       " 'reverse',\n",
       " 'sort']"
      ]
     },
     "execution_count": 4,
     "metadata": {},
     "output_type": "execute_result"
    }
   ],
   "source": [
    "[x for x in dir(list) if not x.startswith(\"__\")]"
   ]
  },
  {
   "cell_type": "code",
   "execution_count": 5,
   "id": "6eb7b116",
   "metadata": {},
   "outputs": [
    {
     "name": "stdout",
     "output_type": "stream",
     "text": [
      "['append', 'clear', 'copy', 'count', 'extend', 'index', 'insert', 'pop', 'remove', 'reverse', 'sort']\n"
     ]
    }
   ],
   "source": [
    "print([x for x in dir(list) if not x.startswith(\"__\")])"
   ]
  },
  {
   "cell_type": "code",
   "execution_count": 6,
   "id": "8c750f26",
   "metadata": {},
   "outputs": [],
   "source": [
    "import DBcm\n",
    "\n",
    "db_details = \"CoachDB.sqlite3\""
   ]
  },
  {
   "cell_type": "code",
   "execution_count": 7,
   "id": "7321edf9",
   "metadata": {},
   "outputs": [
    {
     "name": "stdout",
     "output_type": "stream",
     "text": [
      "\n",
      "    select distinct ts from times\n",
      "\n"
     ]
    }
   ],
   "source": [
    "from queries import SQL_SESSIONS\n",
    "\n",
    "print(SQL_SESSIONS)"
   ]
  },
  {
   "cell_type": "code",
   "execution_count": 10,
   "id": "f38b56d9",
   "metadata": {},
   "outputs": [
    {
     "data": {
      "text/plain": [
       "[('2025-08-21 10:49:04',), ('2025-08-22 11:39:51',)]"
      ]
     },
     "execution_count": 10,
     "metadata": {},
     "output_type": "execute_result"
    }
   ],
   "source": [
    "with DBcm.UseDatabase(db_details) as db:\n",
    "    db.execute(SQL_SESSIONS)\n",
    "    results = db.fetchall()\n",
    "results"
   ]
  },
  {
   "cell_type": "code",
   "execution_count": 9,
   "id": "2c4d429a",
   "metadata": {},
   "outputs": [],
   "source": [
    "!python3 update_tables.py"
   ]
  },
  {
   "cell_type": "code",
   "execution_count": 11,
   "id": "13d01cfa",
   "metadata": {},
   "outputs": [
    {
     "name": "stdout",
     "output_type": "stream",
     "text": [
      "\n",
      "    select distinct swimmers.name, swimmers.age  \n",
      "    from times, swimmers \n",
      "    where date(times.ts) = ? and     \n",
      "    times.swimmer_id = swimmers.id \n",
      "    order by name\n",
      "\n"
     ]
    }
   ],
   "source": [
    "from queries import SQL_SWIMMERS_BY_SESSION\n",
    "\n",
    "print(SQL_SWIMMERS_BY_SESSION)"
   ]
  },
  {
   "cell_type": "code",
   "execution_count": 12,
   "id": "8eb0ca21",
   "metadata": {},
   "outputs": [
    {
     "data": {
      "text/plain": [
       "[('Abi', 10),\n",
       " ('Blake', 15),\n",
       " ('Darius', 13),\n",
       " ('Darius', 8),\n",
       " ('Dave', 17),\n",
       " ('Katie', 9),\n",
       " ('Maria', 9),\n",
       " ('Owen', 15)]"
      ]
     },
     "execution_count": 12,
     "metadata": {},
     "output_type": "execute_result"
    }
   ],
   "source": [
    "with DBcm.UseDatabase(db_details) as db:\n",
    "    db.execute(SQL_SWIMMERS_BY_SESSION, (\"2025-08-22\",))\n",
    "    results = db.fetchall()\n",
    "results"
   ]
  },
  {
   "cell_type": "code",
   "execution_count": 14,
   "id": "6d5ec8c5",
   "metadata": {},
   "outputs": [
    {
     "data": {
      "text/plain": [
       "[('Abi', 10),\n",
       " ('Ali', 12),\n",
       " ('Alison', 14),\n",
       " ('Aurora', 13),\n",
       " ('Bill', 18),\n",
       " ('Blake', 15),\n",
       " ('Calvin', 9),\n",
       " ('Carl', 15),\n",
       " ('Chris', 17),\n",
       " ('Darius', 13),\n",
       " ('Dave', 17),\n",
       " ('Elba', 14),\n",
       " ('Emma', 13),\n",
       " ('Erika', 15),\n",
       " ('Hannah', 13),\n",
       " ('Katie', 9),\n",
       " ('Lizzie', 14),\n",
       " ('Maria', 9),\n",
       " ('Mike', 15),\n",
       " ('Owen', 15),\n",
       " ('Ruth', 13),\n",
       " ('Tasmin', 15)]"
      ]
     },
     "execution_count": 14,
     "metadata": {},
     "output_type": "execute_result"
    }
   ],
   "source": [
    "with DBcm.UseDatabase(db_details) as db:\n",
    "    db.execute(SQL_SWIMMERS_BY_SESSION, (\"2025-08-21\",))\n",
    "    results = db.fetchall()\n",
    "results"
   ]
  },
  {
   "cell_type": "code",
   "execution_count": 15,
   "id": "d92026d3",
   "metadata": {},
   "outputs": [
    {
     "name": "stdout",
     "output_type": "stream",
     "text": [
      "  \n",
      "    select distinct events.distance, events.stroke\n",
      "    from swimmers, events, times\n",
      "    where times.swimmer_id = swimmers.id and\n",
      "    times.event_id = events.id and\n",
      "    (swimmers.name = ? and swimmers.age = ?) and\n",
      "    date(times.ts) = ?\n",
      "\n"
     ]
    }
   ],
   "source": [
    "from queries import SQL_SWIMMERS_EVENTS_BY_SESSION\n",
    "\n",
    "print(SQL_SWIMMERS_EVENTS_BY_SESSION)"
   ]
  },
  {
   "cell_type": "code",
   "execution_count": null,
   "id": "86bf0295",
   "metadata": {},
   "outputs": [
    {
     "data": {
      "text/plain": [
       "[('100m', 'Fly'), ('200m', 'IM'), ('100m', 'Back'), ('100m', 'Breast')]"
      ]
     },
     "execution_count": 16,
     "metadata": {},
     "output_type": "execute_result"
    }
   ],
   "source": [
    "with DBcm.UseDatabase(db_details) as db:\n",
    "    db.execute(\n",
    "        SQL_SWIMMERS_EVENTS_BY_SESSION,\n",
    "        (\n",
    "            \"Darius\",  # Darius U13\n",
    "            13,\n",
    "            \"2025-08-21\",  # 1st swim session date\n",
    "        ),\n",
    "    )\n",
    "    results = db.fetchall()\n",
    "results"
   ]
  },
  {
   "cell_type": "code",
   "execution_count": 18,
   "id": "81d7e8bc",
   "metadata": {},
   "outputs": [
    {
     "data": {
      "text/plain": [
       "[('50m', 'Back'), ('50m', 'Free'), ('50m', 'Breast')]"
      ]
     },
     "execution_count": 18,
     "metadata": {},
     "output_type": "execute_result"
    }
   ],
   "source": [
    "with DBcm.UseDatabase(db_details) as db:\n",
    "    db.execute(\n",
    "        SQL_SWIMMERS_EVENTS_BY_SESSION,\n",
    "        (\n",
    "            \"Darius\",  # Darius U8\n",
    "            8,\n",
    "            \"2025-08-22\",  # 2nd swim session date\n",
    "        ),\n",
    "    )\n",
    "    results = db.fetchall()\n",
    "results"
   ]
  },
  {
   "cell_type": "code",
   "execution_count": 19,
   "id": "209a3567",
   "metadata": {},
   "outputs": [
    {
     "name": "stdout",
     "output_type": "stream",
     "text": [
      "\n",
      "    select times.time\n",
      "    from swimmers, events, times\n",
      "    where (swimmers.name = ? and swimmers.age = ?) and\n",
      "    (events.distance = ? and events.stroke = ?) and \n",
      "    swimmers.id = times.swimmer_id and\n",
      "    events.id = times.event_id and\n",
      "    date(times.ts) = ?\n",
      "\n"
     ]
    }
   ],
   "source": [
    "from queries import SQL_CHART_DATA_BY_SWIMMER_EVENT_SESSION\n",
    "\n",
    "print(SQL_CHART_DATA_BY_SWIMMER_EVENT_SESSION)"
   ]
  },
  {
   "cell_type": "code",
   "execution_count": 20,
   "id": "f87590de",
   "metadata": {},
   "outputs": [
    {
     "data": {
      "text/plain": [
       "[('1:27.95',),\n",
       " ('1:21.07',),\n",
       " ('1:30.96',),\n",
       " ('1:23.22',),\n",
       " ('1:27.95',),\n",
       " ('1:28.30',)]"
      ]
     },
     "execution_count": 20,
     "metadata": {},
     "output_type": "execute_result"
    }
   ],
   "source": [
    "with DBcm.UseDatabase(db_details) as db:\n",
    "    db.execute(\n",
    "        SQL_CHART_DATA_BY_SWIMMER_EVENT_SESSION,\n",
    "        (\n",
    "            \"Darius\",  # Darius U13\n",
    "            13,\n",
    "            \"100m\",\n",
    "            \"Fly\",\n",
    "            \"2025-08-21\",  # 1st swim session date\n",
    "        ),\n",
    "    )\n",
    "    results = db.fetchall()\n",
    "results"
   ]
  },
  {
   "cell_type": "code",
   "execution_count": null,
   "id": "df6333e5",
   "metadata": {},
   "outputs": [],
   "source": []
  }
 ],
 "metadata": {
  "kernelspec": {
   "display_name": "jupyter",
   "language": "python",
   "name": "python3"
  },
  "language_info": {
   "codemirror_mode": {
    "name": "ipython",
    "version": 3
   },
   "file_extension": ".py",
   "mimetype": "text/x-python",
   "name": "python",
   "nbconvert_exporter": "python",
   "pygments_lexer": "ipython3",
   "version": "3.12.3"
  }
 },
 "nbformat": 4,
 "nbformat_minor": 5
}
