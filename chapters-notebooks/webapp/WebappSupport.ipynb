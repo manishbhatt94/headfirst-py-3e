{
 "cells": [
  {
   "cell_type": "code",
   "execution_count": 1,
   "id": "2129661d",
   "metadata": {},
   "outputs": [
    {
     "name": "stdout",
     "output_type": "stream",
     "text": [
      "Requirement already satisfied: flask in /home/manish/.local/share/pipx/venvs/jupyter/lib/python3.12/site-packages (3.1.1)\n",
      "Requirement already satisfied: blinker>=1.9.0 in /home/manish/.local/share/pipx/venvs/jupyter/lib/python3.12/site-packages (from flask) (1.9.0)\n",
      "Requirement already satisfied: click>=8.1.3 in /home/manish/.local/share/pipx/venvs/jupyter/lib/python3.12/site-packages (from flask) (8.2.1)\n",
      "Requirement already satisfied: itsdangerous>=2.2.0 in /home/manish/.local/share/pipx/venvs/jupyter/lib/python3.12/site-packages (from flask) (2.2.0)\n",
      "Requirement already satisfied: jinja2>=3.1.2 in /home/manish/.local/share/pipx/venvs/jupyter/lib/python3.12/site-packages (from flask) (3.1.6)\n",
      "Requirement already satisfied: markupsafe>=2.1.1 in /home/manish/.local/share/pipx/venvs/jupyter/lib/python3.12/site-packages (from flask) (3.0.2)\n",
      "Requirement already satisfied: werkzeug>=3.1.0 in /home/manish/.local/share/pipx/venvs/jupyter/lib/python3.12/site-packages (from flask) (3.1.3)\n",
      "\n",
      "\u001b[1m[\u001b[0m\u001b[34;49mnotice\u001b[0m\u001b[1;39;49m]\u001b[0m\u001b[39;49m A new release of pip is available: \u001b[0m\u001b[31;49m25.0.1\u001b[0m\u001b[39;49m -> \u001b[0m\u001b[32;49m25.2\u001b[0m\n",
      "\u001b[1m[\u001b[0m\u001b[34;49mnotice\u001b[0m\u001b[1;39;49m]\u001b[0m\u001b[39;49m To update, run: \u001b[0m\u001b[32;49mpython -m pip install --upgrade pip\u001b[0m\n",
      "Note: you may need to restart the kernel to use updated packages.\n"
     ]
    }
   ],
   "source": [
    "%pip install flask --upgrade"
   ]
  },
  {
   "cell_type": "code",
   "execution_count": 1,
   "id": "fdf12359",
   "metadata": {},
   "outputs": [],
   "source": [
    "name = \"Katie-9-100m-Free.txt\""
   ]
  },
  {
   "cell_type": "code",
   "execution_count": 2,
   "id": "75f652ab",
   "metadata": {},
   "outputs": [
    {
     "data": {
      "text/plain": [
       "['Katie', '9', '100m', 'Free']"
      ]
     },
     "execution_count": 2,
     "metadata": {},
     "output_type": "execute_result"
    }
   ],
   "source": [
    "name.removesuffix(\".txt\").split(\"-\")"
   ]
  },
  {
   "cell_type": "code",
   "execution_count": 3,
   "id": "b2d8d694",
   "metadata": {},
   "outputs": [
    {
     "name": "stdout",
     "output_type": "stream",
     "text": [
      "Help on built-in function split:\n",
      "\n",
      "split(sep=None, maxsplit=-1) method of builtins.str instance\n",
      "    Return a list of the substrings in the string, using sep as the separator string.\n",
      "\n",
      "      sep\n",
      "        The separator used to split the string.\n",
      "\n",
      "        When set to None (the default value), will split on any whitespace\n",
      "        character (including \\n \\r \\t \\f and spaces) and will discard\n",
      "        empty strings from the result.\n",
      "      maxsplit\n",
      "        Maximum number of splits.\n",
      "        -1 (the default value) means no limit.\n",
      "\n",
      "    Splitting starts at the front of the string and works to the end.\n",
      "\n",
      "    Note, str.split() is mainly useful for data that has been intentionally\n",
      "    delimited.  With natural text that includes punctuation, consider using\n",
      "    the regular expression module.\n",
      "\n"
     ]
    }
   ],
   "source": [
    "help(name.split)"
   ]
  },
  {
   "cell_type": "code",
   "execution_count": null,
   "id": "d5cf3897",
   "metadata": {},
   "outputs": [
    {
     "data": {
      "text/plain": [
       "['Katie', '9', '100m-Free']"
      ]
     },
     "execution_count": 4,
     "metadata": {},
     "output_type": "execute_result"
    }
   ],
   "source": [
    "name.removesuffix(\".txt\").split(\"-\", maxsplit=2)"
   ]
  },
  {
   "cell_type": "code",
   "execution_count": 5,
   "id": "eb88b74c",
   "metadata": {},
   "outputs": [
    {
     "data": {
      "text/plain": [
       "'100m-Free'"
      ]
     },
     "execution_count": 5,
     "metadata": {},
     "output_type": "execute_result"
    }
   ],
   "source": [
    "name.removesuffix(\".txt\").split(\"-\", maxsplit=2)[-1]"
   ]
  },
  {
   "cell_type": "code",
   "execution_count": 6,
   "id": "8158f558",
   "metadata": {},
   "outputs": [],
   "source": [
    "name = \"Katie\""
   ]
  },
  {
   "cell_type": "code",
   "execution_count": 7,
   "id": "4053ad3a",
   "metadata": {},
   "outputs": [
    {
     "data": {
      "text/plain": [
       "'Katie'"
      ]
     },
     "execution_count": 7,
     "metadata": {},
     "output_type": "execute_result"
    }
   ],
   "source": [
    "name.removesuffix(\".txt\").split(\"-\", maxsplit=2)[-1]"
   ]
  },
  {
   "cell_type": "code",
   "execution_count": null,
   "id": "a5e46ad2",
   "metadata": {},
   "outputs": [],
   "source": []
  }
 ],
 "metadata": {
  "kernelspec": {
   "display_name": "jupyter",
   "language": "python",
   "name": "python3"
  },
  "language_info": {
   "codemirror_mode": {
    "name": "ipython",
    "version": 3
   },
   "file_extension": ".py",
   "mimetype": "text/x-python",
   "name": "python",
   "nbconvert_exporter": "python",
   "pygments_lexer": "ipython3",
   "version": "3.12.3"
  }
 },
 "nbformat": 4,
 "nbformat_minor": 5
}
