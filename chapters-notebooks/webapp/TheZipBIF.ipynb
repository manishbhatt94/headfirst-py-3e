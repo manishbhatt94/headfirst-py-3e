{
 "cells": [
  {
   "cell_type": "code",
   "execution_count": null,
   "id": "4e8f7f84",
   "metadata": {},
   "outputs": [],
   "source": [
    "times = [\"39.42\", \"36.13\", \"37.66\", \"39.07\"]\n",
    "scaled = [346.89, 334.37, 320.79, 350.0]"
   ]
  },
  {
   "cell_type": "code",
   "execution_count": 2,
   "id": "0527c09a",
   "metadata": {},
   "outputs": [
    {
     "data": {
      "text/plain": [
       "<zip at 0x7f314122a080>"
      ]
     },
     "execution_count": 2,
     "metadata": {},
     "output_type": "execute_result"
    }
   ],
   "source": [
    "zip(times, scaled)"
   ]
  },
  {
   "cell_type": "code",
   "execution_count": 3,
   "id": "4cb981f1",
   "metadata": {},
   "outputs": [
    {
     "data": {
      "text/plain": [
       "[('39.42', 346.89), ('36.13', 334.37), ('37.66', 320.79), ('39.07', 350.0)]"
      ]
     },
     "execution_count": 3,
     "metadata": {},
     "output_type": "execute_result"
    }
   ],
   "source": [
    "list(zip(times, scaled))"
   ]
  },
  {
   "cell_type": "code",
   "execution_count": 4,
   "id": "a029caae",
   "metadata": {},
   "outputs": [
    {
     "name": "stdout",
     "output_type": "stream",
     "text": [
      "('39.42', 346.89)\n",
      "('36.13', 334.37)\n",
      "('37.66', 320.79)\n",
      "('39.07', 350.0)\n"
     ]
    }
   ],
   "source": [
    "for row in zip(times, scaled):\n",
    "    print(row)"
   ]
  },
  {
   "cell_type": "code",
   "execution_count": null,
   "id": "010317fd",
   "metadata": {},
   "outputs": [],
   "source": []
  }
 ],
 "metadata": {
  "kernelspec": {
   "display_name": "jupyter",
   "language": "python",
   "name": "python3"
  },
  "language_info": {
   "codemirror_mode": {
    "name": "ipython",
    "version": 3
   },
   "file_extension": ".py",
   "mimetype": "text/x-python",
   "name": "python",
   "nbconvert_exporter": "python",
   "pygments_lexer": "ipython3",
   "version": "3.12.3"
  }
 },
 "nbformat": 4,
 "nbformat_minor": 5
}
