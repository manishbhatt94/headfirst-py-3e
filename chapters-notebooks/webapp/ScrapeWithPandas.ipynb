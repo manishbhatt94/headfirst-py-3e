{
 "cells": [
  {
   "cell_type": "code",
   "execution_count": 1,
   "id": "d204cd9a",
   "metadata": {},
   "outputs": [
    {
     "name": "stdout",
     "output_type": "stream",
     "text": [
      "Collecting pandas\n",
      "  Downloading pandas-2.3.1-cp312-cp312-manylinux_2_17_x86_64.manylinux2014_x86_64.whl.metadata (91 kB)\n",
      "Collecting lxml\n",
      "  Downloading lxml-6.0.0-cp312-cp312-manylinux_2_27_x86_64.manylinux_2_28_x86_64.whl.metadata (6.6 kB)\n",
      "Collecting numpy>=1.26.0 (from pandas)\n",
      "  Downloading numpy-2.3.2-cp312-cp312-manylinux_2_27_x86_64.manylinux_2_28_x86_64.whl.metadata (62 kB)\n",
      "Requirement already satisfied: python-dateutil>=2.8.2 in /home/manish/.local/share/pipx/venvs/jupyter/lib/python3.12/site-packages (from pandas) (2.9.0.post0)\n",
      "Collecting pytz>=2020.1 (from pandas)\n",
      "  Using cached pytz-2025.2-py2.py3-none-any.whl.metadata (22 kB)\n",
      "Collecting tzdata>=2022.7 (from pandas)\n",
      "  Downloading tzdata-2025.2-py2.py3-none-any.whl.metadata (1.4 kB)\n",
      "Requirement already satisfied: six>=1.5 in /home/manish/.local/share/pipx/venvs/jupyter/lib/python3.12/site-packages (from python-dateutil>=2.8.2->pandas) (1.17.0)\n",
      "Downloading pandas-2.3.1-cp312-cp312-manylinux_2_17_x86_64.manylinux2014_x86_64.whl (12.0 MB)\n",
      "\u001b[2K   \u001b[90m━━━━━━━━━━━━━━━━━━━━━━━━━━━━━━━━━━━━━━━━\u001b[0m \u001b[32m12.0/12.0 MB\u001b[0m \u001b[31m30.6 MB/s\u001b[0m eta \u001b[36m0:00:00\u001b[0m \u001b[36m0:00:01\u001b[0m\n",
      "\u001b[?25hDownloading lxml-6.0.0-cp312-cp312-manylinux_2_27_x86_64.manylinux_2_28_x86_64.whl (5.3 MB)\n",
      "\u001b[2K   \u001b[90m━━━━━━━━━━━━━━━━━━━━━━━━━━━━━━━━━━━━━━━━\u001b[0m \u001b[32m5.3/5.3 MB\u001b[0m \u001b[31m26.7 MB/s\u001b[0m eta \u001b[36m0:00:00\u001b[0m\n",
      "\u001b[?25hDownloading numpy-2.3.2-cp312-cp312-manylinux_2_27_x86_64.manylinux_2_28_x86_64.whl (16.6 MB)\n",
      "\u001b[2K   \u001b[90m━━━━━━━━━━━━━━━━━━━━━━━━━━━━━━━━━━━━━━━━\u001b[0m \u001b[32m16.6/16.6 MB\u001b[0m \u001b[31m29.0 MB/s\u001b[0m eta \u001b[36m0:00:00\u001b[0ma \u001b[36m0:00:01\u001b[0m\n",
      "\u001b[?25hUsing cached pytz-2025.2-py2.py3-none-any.whl (509 kB)\n",
      "Downloading tzdata-2025.2-py2.py3-none-any.whl (347 kB)\n",
      "Installing collected packages: pytz, tzdata, numpy, lxml, pandas\n",
      "Successfully installed lxml-6.0.0 numpy-2.3.2 pandas-2.3.1 pytz-2025.2 tzdata-2025.2\n",
      "\n",
      "\u001b[1m[\u001b[0m\u001b[34;49mnotice\u001b[0m\u001b[1;39;49m]\u001b[0m\u001b[39;49m A new release of pip is available: \u001b[0m\u001b[31;49m25.0.1\u001b[0m\u001b[39;49m -> \u001b[0m\u001b[32;49m25.2\u001b[0m\n",
      "\u001b[1m[\u001b[0m\u001b[34;49mnotice\u001b[0m\u001b[1;39;49m]\u001b[0m\u001b[39;49m To update, run: \u001b[0m\u001b[32;49mpython -m pip install --upgrade pip\u001b[0m\n",
      "Note: you may need to restart the kernel to use updated packages.\n"
     ]
    }
   ],
   "source": [
    "%pip install pandas lxml --upgrade"
   ]
  },
  {
   "cell_type": "code",
   "execution_count": 2,
   "id": "ba8a8397",
   "metadata": {},
   "outputs": [],
   "source": [
    "import pandas as pd\n",
    "\n",
    "URL = \"https://en.wikipedia.org/wiki/List_of_world_records_in_swimming\""
   ]
  },
  {
   "cell_type": "code",
   "execution_count": 3,
   "id": "c2101255",
   "metadata": {},
   "outputs": [],
   "source": [
    "tables = pd.read_html(URL)"
   ]
  },
  {
   "cell_type": "code",
   "execution_count": 4,
   "id": "ff5e64d2",
   "metadata": {},
   "outputs": [
    {
     "data": {
      "text/plain": [
       "list"
      ]
     },
     "execution_count": 4,
     "metadata": {},
     "output_type": "execute_result"
    }
   ],
   "source": [
    "type(tables)"
   ]
  },
  {
   "cell_type": "code",
   "execution_count": 5,
   "id": "89ff7f0d",
   "metadata": {},
   "outputs": [
    {
     "data": {
      "text/plain": [
       "pandas.core.frame.DataFrame"
      ]
     },
     "execution_count": 5,
     "metadata": {},
     "output_type": "execute_result"
    }
   ],
   "source": [
    "type(tables[0])"
   ]
  },
  {
   "cell_type": "code",
   "execution_count": 6,
   "id": "45f063f1",
   "metadata": {},
   "outputs": [
    {
     "data": {
      "text/html": [
       "<div>\n",
       "<style scoped>\n",
       "    .dataframe tbody tr th:only-of-type {\n",
       "        vertical-align: middle;\n",
       "    }\n",
       "\n",
       "    .dataframe tbody tr th {\n",
       "        vertical-align: top;\n",
       "    }\n",
       "\n",
       "    .dataframe thead th {\n",
       "        text-align: right;\n",
       "    }\n",
       "</style>\n",
       "<table border=\"1\" class=\"dataframe\">\n",
       "  <thead>\n",
       "    <tr style=\"text-align: right;\">\n",
       "      <th></th>\n",
       "      <th>Event</th>\n",
       "      <th>Time</th>\n",
       "      <th>Unnamed: 2</th>\n",
       "      <th>Name</th>\n",
       "      <th>Nationality</th>\n",
       "      <th>Date</th>\n",
       "      <th>Meet</th>\n",
       "      <th>Location</th>\n",
       "      <th>Ref</th>\n",
       "    </tr>\n",
       "  </thead>\n",
       "  <tbody>\n",
       "    <tr>\n",
       "      <th>0</th>\n",
       "      <td>50m freestyle</td>\n",
       "      <td>20.91</td>\n",
       "      <td>ss</td>\n",
       "      <td>César Cielo</td>\n",
       "      <td>Brazil</td>\n",
       "      <td>18 December 2009</td>\n",
       "      <td>Brazilian Championships</td>\n",
       "      <td>São Paulo, Brazil</td>\n",
       "      <td>[9][10][11][12]</td>\n",
       "    </tr>\n",
       "    <tr>\n",
       "      <th>1</th>\n",
       "      <td>100m freestyle</td>\n",
       "      <td>46.40</td>\n",
       "      <td>NaN</td>\n",
       "      <td>Pan Zhanle</td>\n",
       "      <td>China</td>\n",
       "      <td>31 July 2024</td>\n",
       "      <td>Olympic Games</td>\n",
       "      <td>Paris, France</td>\n",
       "      <td>[13]</td>\n",
       "    </tr>\n",
       "    <tr>\n",
       "      <th>2</th>\n",
       "      <td>200m freestyle</td>\n",
       "      <td>1:42.00</td>\n",
       "      <td>ss</td>\n",
       "      <td>Paul Biedermann</td>\n",
       "      <td>Germany</td>\n",
       "      <td>28 July 2009</td>\n",
       "      <td>World Championships</td>\n",
       "      <td>Rome, Italy</td>\n",
       "      <td>[14][15][16]</td>\n",
       "    </tr>\n",
       "    <tr>\n",
       "      <th>3</th>\n",
       "      <td>400m freestyle</td>\n",
       "      <td>3:39.96</td>\n",
       "      <td>NaN</td>\n",
       "      <td>Lukas Märtens</td>\n",
       "      <td>Germany</td>\n",
       "      <td>12 April 2025</td>\n",
       "      <td>Swim Open Stockholm</td>\n",
       "      <td>Stockholm, Sweden</td>\n",
       "      <td>[17]</td>\n",
       "    </tr>\n",
       "    <tr>\n",
       "      <th>4</th>\n",
       "      <td>800m freestyle</td>\n",
       "      <td>7:32.12</td>\n",
       "      <td>ss</td>\n",
       "      <td>Zhang Lin</td>\n",
       "      <td>China</td>\n",
       "      <td>29 July 2009</td>\n",
       "      <td>World Championships</td>\n",
       "      <td>Rome, Italy</td>\n",
       "      <td>[18][19]</td>\n",
       "    </tr>\n",
       "  </tbody>\n",
       "</table>\n",
       "</div>"
      ],
      "text/plain": [
       "            Event     Time Unnamed: 2             Name Nationality  \\\n",
       "0   50m freestyle    20.91         ss      César Cielo      Brazil   \n",
       "1  100m freestyle    46.40        NaN       Pan Zhanle       China   \n",
       "2  200m freestyle  1:42.00         ss  Paul Biedermann     Germany   \n",
       "3  400m freestyle  3:39.96        NaN    Lukas Märtens     Germany   \n",
       "4  800m freestyle  7:32.12         ss        Zhang Lin       China   \n",
       "\n",
       "               Date                     Meet           Location  \\\n",
       "0  18 December 2009  Brazilian Championships  São Paulo, Brazil   \n",
       "1      31 July 2024            Olympic Games      Paris, France   \n",
       "2      28 July 2009      World Championships        Rome, Italy   \n",
       "3     12 April 2025      Swim Open Stockholm  Stockholm, Sweden   \n",
       "4      29 July 2009      World Championships        Rome, Italy   \n",
       "\n",
       "               Ref  \n",
       "0  [9][10][11][12]  \n",
       "1             [13]  \n",
       "2     [14][15][16]  \n",
       "3             [17]  \n",
       "4         [18][19]  "
      ]
     },
     "execution_count": 6,
     "metadata": {},
     "output_type": "execute_result"
    }
   ],
   "source": [
    "tables[0].head()"
   ]
  },
  {
   "cell_type": "code",
   "execution_count": 7,
   "id": "365aa589",
   "metadata": {},
   "outputs": [],
   "source": [
    "df = tables[0][[\"Event\", \"Time\"]]"
   ]
  },
  {
   "cell_type": "code",
   "execution_count": 8,
   "id": "608b8c29",
   "metadata": {},
   "outputs": [
    {
     "data": {
      "text/html": [
       "<div>\n",
       "<style scoped>\n",
       "    .dataframe tbody tr th:only-of-type {\n",
       "        vertical-align: middle;\n",
       "    }\n",
       "\n",
       "    .dataframe tbody tr th {\n",
       "        vertical-align: top;\n",
       "    }\n",
       "\n",
       "    .dataframe thead th {\n",
       "        text-align: right;\n",
       "    }\n",
       "</style>\n",
       "<table border=\"1\" class=\"dataframe\">\n",
       "  <thead>\n",
       "    <tr style=\"text-align: right;\">\n",
       "      <th></th>\n",
       "      <th>Event</th>\n",
       "      <th>Time</th>\n",
       "    </tr>\n",
       "  </thead>\n",
       "  <tbody>\n",
       "    <tr>\n",
       "      <th>0</th>\n",
       "      <td>50m freestyle</td>\n",
       "      <td>20.91</td>\n",
       "    </tr>\n",
       "    <tr>\n",
       "      <th>1</th>\n",
       "      <td>100m freestyle</td>\n",
       "      <td>46.40</td>\n",
       "    </tr>\n",
       "    <tr>\n",
       "      <th>2</th>\n",
       "      <td>200m freestyle</td>\n",
       "      <td>1:42.00</td>\n",
       "    </tr>\n",
       "    <tr>\n",
       "      <th>3</th>\n",
       "      <td>400m freestyle</td>\n",
       "      <td>3:39.96</td>\n",
       "    </tr>\n",
       "    <tr>\n",
       "      <th>4</th>\n",
       "      <td>800m freestyle</td>\n",
       "      <td>7:32.12</td>\n",
       "    </tr>\n",
       "  </tbody>\n",
       "</table>\n",
       "</div>"
      ],
      "text/plain": [
       "            Event     Time\n",
       "0   50m freestyle    20.91\n",
       "1  100m freestyle    46.40\n",
       "2  200m freestyle  1:42.00\n",
       "3  400m freestyle  3:39.96\n",
       "4  800m freestyle  7:32.12"
      ]
     },
     "execution_count": 8,
     "metadata": {},
     "output_type": "execute_result"
    }
   ],
   "source": [
    "df.head()"
   ]
  },
  {
   "cell_type": "code",
   "execution_count": 9,
   "id": "a3a5afb2",
   "metadata": {},
   "outputs": [
    {
     "data": {
      "text/plain": [
       "{'Event': {0: '50m freestyle',\n",
       "  1: '100m freestyle',\n",
       "  2: '200m freestyle',\n",
       "  3: '400m freestyle',\n",
       "  4: '800m freestyle',\n",
       "  5: '1500m freestyle',\n",
       "  6: '50m backstroke',\n",
       "  7: '100m backstroke',\n",
       "  8: '200m backstroke',\n",
       "  9: '50m breaststroke',\n",
       "  10: '100m breaststroke',\n",
       "  11: '200m breaststroke',\n",
       "  12: '50m butterfly',\n",
       "  13: '100m butterfly',\n",
       "  14: '200m butterfly',\n",
       "  15: '200m individual medley',\n",
       "  16: '400m individual medley',\n",
       "  17: '4 × 100 m freestyle relay',\n",
       "  18: '4 × 200 m freestyle relay',\n",
       "  19: '4 × 100 m medley relay'},\n",
       " 'Time': {0: '20.91',\n",
       "  1: '46.40',\n",
       "  2: '1:42.00',\n",
       "  3: '3:39.96',\n",
       "  4: '7:32.12',\n",
       "  5: '14:30.67',\n",
       "  6: '23.55',\n",
       "  7: '51.60',\n",
       "  8: '1:51.92',\n",
       "  9: '25.95',\n",
       "  10: '56.88',\n",
       "  11: '2:05.48',\n",
       "  12: '22.27',\n",
       "  13: '49.45',\n",
       "  14: '1:50.34',\n",
       "  15: '1:52.69',\n",
       "  16: '4:02.50',\n",
       "  17: '3:08.24',\n",
       "  18: '6:58.55',\n",
       "  19: '3:26.78'}}"
      ]
     },
     "execution_count": 9,
     "metadata": {},
     "output_type": "execute_result"
    }
   ],
   "source": [
    "df.to_dict()"
   ]
  },
  {
   "cell_type": "code",
   "execution_count": 10,
   "id": "e3c59717",
   "metadata": {},
   "outputs": [
    {
     "data": {
      "text/html": [
       "<div>\n",
       "<style scoped>\n",
       "    .dataframe tbody tr th:only-of-type {\n",
       "        vertical-align: middle;\n",
       "    }\n",
       "\n",
       "    .dataframe tbody tr th {\n",
       "        vertical-align: top;\n",
       "    }\n",
       "\n",
       "    .dataframe thead th {\n",
       "        text-align: right;\n",
       "    }\n",
       "</style>\n",
       "<table border=\"1\" class=\"dataframe\">\n",
       "  <thead>\n",
       "    <tr style=\"text-align: right;\">\n",
       "      <th></th>\n",
       "      <th>Event</th>\n",
       "      <th>Time</th>\n",
       "    </tr>\n",
       "  </thead>\n",
       "  <tbody>\n",
       "    <tr>\n",
       "      <th>15</th>\n",
       "      <td>200m individual medley</td>\n",
       "      <td>1:52.69</td>\n",
       "    </tr>\n",
       "    <tr>\n",
       "      <th>16</th>\n",
       "      <td>400m individual medley</td>\n",
       "      <td>4:02.50</td>\n",
       "    </tr>\n",
       "    <tr>\n",
       "      <th>17</th>\n",
       "      <td>4 × 100 m freestyle relay</td>\n",
       "      <td>3:08.24</td>\n",
       "    </tr>\n",
       "    <tr>\n",
       "      <th>18</th>\n",
       "      <td>4 × 200 m freestyle relay</td>\n",
       "      <td>6:58.55</td>\n",
       "    </tr>\n",
       "    <tr>\n",
       "      <th>19</th>\n",
       "      <td>4 × 100 m medley relay</td>\n",
       "      <td>3:26.78</td>\n",
       "    </tr>\n",
       "  </tbody>\n",
       "</table>\n",
       "</div>"
      ],
      "text/plain": [
       "                        Event     Time\n",
       "15     200m individual medley  1:52.69\n",
       "16     400m individual medley  4:02.50\n",
       "17  4 × 100 m freestyle relay  3:08.24\n",
       "18  4 × 200 m freestyle relay  6:58.55\n",
       "19     4 × 100 m medley relay  3:26.78"
      ]
     },
     "execution_count": 10,
     "metadata": {},
     "output_type": "execute_result"
    }
   ],
   "source": [
    "df.tail()"
   ]
  },
  {
   "cell_type": "code",
   "execution_count": 11,
   "id": "fd0769b3",
   "metadata": {},
   "outputs": [
    {
     "data": {
      "text/plain": [
       "0                 50m freestyle\n",
       "1                100m freestyle\n",
       "2                200m freestyle\n",
       "3                400m freestyle\n",
       "4                800m freestyle\n",
       "5               1500m freestyle\n",
       "6                50m backstroke\n",
       "7               100m backstroke\n",
       "8               200m backstroke\n",
       "9              50m breaststroke\n",
       "10            100m breaststroke\n",
       "11            200m breaststroke\n",
       "12                50m butterfly\n",
       "13               100m butterfly\n",
       "14               200m butterfly\n",
       "15       200m individual medley\n",
       "16       400m individual medley\n",
       "17    4 × 100 m freestyle relay\n",
       "18    4 × 200 m freestyle relay\n",
       "19       4 × 100 m medley relay\n",
       "Name: Event, dtype: object"
      ]
     },
     "execution_count": 11,
     "metadata": {},
     "output_type": "execute_result"
    }
   ],
   "source": [
    "df[\"Event\"]"
   ]
  },
  {
   "cell_type": "code",
   "execution_count": 12,
   "id": "56c7af4f",
   "metadata": {},
   "outputs": [
    {
     "data": {
      "text/plain": [
       "<pandas.core.strings.accessor.StringMethods at 0x7ff3b4342db0>"
      ]
     },
     "execution_count": 12,
     "metadata": {},
     "output_type": "execute_result"
    }
   ],
   "source": [
    "df[\"Event\"].str"
   ]
  },
  {
   "cell_type": "code",
   "execution_count": null,
   "id": "909e4598",
   "metadata": {},
   "outputs": [
    {
     "data": {
      "text/plain": [
       "0     False\n",
       "1     False\n",
       "2     False\n",
       "3     False\n",
       "4     False\n",
       "5     False\n",
       "6     False\n",
       "7     False\n",
       "8     False\n",
       "9     False\n",
       "10    False\n",
       "11    False\n",
       "12    False\n",
       "13    False\n",
       "14    False\n",
       "15    False\n",
       "16    False\n",
       "17     True\n",
       "18     True\n",
       "19     True\n",
       "Name: Event, dtype: bool"
      ]
     },
     "execution_count": 13,
     "metadata": {},
     "output_type": "execute_result"
    }
   ],
   "source": [
    "# A pandas conditional expression\n",
    "df[\"Event\"].str.contains(\"relay\")"
   ]
  },
  {
   "cell_type": "code",
   "execution_count": 14,
   "id": "fca1a904",
   "metadata": {},
   "outputs": [
    {
     "data": {
      "text/html": [
       "<div>\n",
       "<style scoped>\n",
       "    .dataframe tbody tr th:only-of-type {\n",
       "        vertical-align: middle;\n",
       "    }\n",
       "\n",
       "    .dataframe tbody tr th {\n",
       "        vertical-align: top;\n",
       "    }\n",
       "\n",
       "    .dataframe thead th {\n",
       "        text-align: right;\n",
       "    }\n",
       "</style>\n",
       "<table border=\"1\" class=\"dataframe\">\n",
       "  <thead>\n",
       "    <tr style=\"text-align: right;\">\n",
       "      <th></th>\n",
       "      <th>Event</th>\n",
       "      <th>Time</th>\n",
       "    </tr>\n",
       "  </thead>\n",
       "  <tbody>\n",
       "    <tr>\n",
       "      <th>17</th>\n",
       "      <td>4 × 100 m freestyle relay</td>\n",
       "      <td>3:08.24</td>\n",
       "    </tr>\n",
       "    <tr>\n",
       "      <th>18</th>\n",
       "      <td>4 × 200 m freestyle relay</td>\n",
       "      <td>6:58.55</td>\n",
       "    </tr>\n",
       "    <tr>\n",
       "      <th>19</th>\n",
       "      <td>4 × 100 m medley relay</td>\n",
       "      <td>3:26.78</td>\n",
       "    </tr>\n",
       "  </tbody>\n",
       "</table>\n",
       "</div>"
      ],
      "text/plain": [
       "                        Event     Time\n",
       "17  4 × 100 m freestyle relay  3:08.24\n",
       "18  4 × 200 m freestyle relay  6:58.55\n",
       "19     4 × 100 m medley relay  3:26.78"
      ]
     },
     "execution_count": 14,
     "metadata": {},
     "output_type": "execute_result"
    }
   ],
   "source": [
    "df[df[\"Event\"].str.contains(\"relay\")]"
   ]
  },
  {
   "cell_type": "code",
   "execution_count": 15,
   "id": "7596de13",
   "metadata": {},
   "outputs": [
    {
     "data": {
      "text/html": [
       "<div>\n",
       "<style scoped>\n",
       "    .dataframe tbody tr th:only-of-type {\n",
       "        vertical-align: middle;\n",
       "    }\n",
       "\n",
       "    .dataframe tbody tr th {\n",
       "        vertical-align: top;\n",
       "    }\n",
       "\n",
       "    .dataframe thead th {\n",
       "        text-align: right;\n",
       "    }\n",
       "</style>\n",
       "<table border=\"1\" class=\"dataframe\">\n",
       "  <thead>\n",
       "    <tr style=\"text-align: right;\">\n",
       "      <th></th>\n",
       "      <th>Event</th>\n",
       "      <th>Time</th>\n",
       "    </tr>\n",
       "  </thead>\n",
       "  <tbody>\n",
       "    <tr>\n",
       "      <th>0</th>\n",
       "      <td>50m freestyle</td>\n",
       "      <td>20.91</td>\n",
       "    </tr>\n",
       "    <tr>\n",
       "      <th>1</th>\n",
       "      <td>100m freestyle</td>\n",
       "      <td>46.40</td>\n",
       "    </tr>\n",
       "    <tr>\n",
       "      <th>2</th>\n",
       "      <td>200m freestyle</td>\n",
       "      <td>1:42.00</td>\n",
       "    </tr>\n",
       "    <tr>\n",
       "      <th>3</th>\n",
       "      <td>400m freestyle</td>\n",
       "      <td>3:39.96</td>\n",
       "    </tr>\n",
       "    <tr>\n",
       "      <th>4</th>\n",
       "      <td>800m freestyle</td>\n",
       "      <td>7:32.12</td>\n",
       "    </tr>\n",
       "    <tr>\n",
       "      <th>5</th>\n",
       "      <td>1500m freestyle</td>\n",
       "      <td>14:30.67</td>\n",
       "    </tr>\n",
       "    <tr>\n",
       "      <th>6</th>\n",
       "      <td>50m backstroke</td>\n",
       "      <td>23.55</td>\n",
       "    </tr>\n",
       "    <tr>\n",
       "      <th>7</th>\n",
       "      <td>100m backstroke</td>\n",
       "      <td>51.60</td>\n",
       "    </tr>\n",
       "    <tr>\n",
       "      <th>8</th>\n",
       "      <td>200m backstroke</td>\n",
       "      <td>1:51.92</td>\n",
       "    </tr>\n",
       "    <tr>\n",
       "      <th>9</th>\n",
       "      <td>50m breaststroke</td>\n",
       "      <td>25.95</td>\n",
       "    </tr>\n",
       "    <tr>\n",
       "      <th>10</th>\n",
       "      <td>100m breaststroke</td>\n",
       "      <td>56.88</td>\n",
       "    </tr>\n",
       "    <tr>\n",
       "      <th>11</th>\n",
       "      <td>200m breaststroke</td>\n",
       "      <td>2:05.48</td>\n",
       "    </tr>\n",
       "    <tr>\n",
       "      <th>12</th>\n",
       "      <td>50m butterfly</td>\n",
       "      <td>22.27</td>\n",
       "    </tr>\n",
       "    <tr>\n",
       "      <th>13</th>\n",
       "      <td>100m butterfly</td>\n",
       "      <td>49.45</td>\n",
       "    </tr>\n",
       "    <tr>\n",
       "      <th>14</th>\n",
       "      <td>200m butterfly</td>\n",
       "      <td>1:50.34</td>\n",
       "    </tr>\n",
       "    <tr>\n",
       "      <th>15</th>\n",
       "      <td>200m individual medley</td>\n",
       "      <td>1:52.69</td>\n",
       "    </tr>\n",
       "    <tr>\n",
       "      <th>16</th>\n",
       "      <td>400m individual medley</td>\n",
       "      <td>4:02.50</td>\n",
       "    </tr>\n",
       "  </tbody>\n",
       "</table>\n",
       "</div>"
      ],
      "text/plain": [
       "                     Event      Time\n",
       "0            50m freestyle     20.91\n",
       "1           100m freestyle     46.40\n",
       "2           200m freestyle   1:42.00\n",
       "3           400m freestyle   3:39.96\n",
       "4           800m freestyle   7:32.12\n",
       "5          1500m freestyle  14:30.67\n",
       "6           50m backstroke     23.55\n",
       "7          100m backstroke     51.60\n",
       "8          200m backstroke   1:51.92\n",
       "9         50m breaststroke     25.95\n",
       "10       100m breaststroke     56.88\n",
       "11       200m breaststroke   2:05.48\n",
       "12           50m butterfly     22.27\n",
       "13          100m butterfly     49.45\n",
       "14          200m butterfly   1:50.34\n",
       "15  200m individual medley   1:52.69\n",
       "16  400m individual medley   4:02.50"
      ]
     },
     "execution_count": 15,
     "metadata": {},
     "output_type": "execute_result"
    }
   ],
   "source": [
    "# Negating your pandas conditional expression:\n",
    "# \"~\" character before a pandas conditional, flips its boolean value\n",
    "df[~df[\"Event\"].str.contains(\"relay\")]"
   ]
  },
  {
   "cell_type": "code",
   "execution_count": 16,
   "id": "60c31ac1",
   "metadata": {},
   "outputs": [],
   "source": [
    "df = df[~df[\"Event\"].str.contains(\"relay\")]"
   ]
  },
  {
   "cell_type": "code",
   "execution_count": 17,
   "id": "67244965",
   "metadata": {},
   "outputs": [
    {
     "data": {
      "text/plain": [
       "[{'Event': '50m freestyle', 'Time': '20.91'},\n",
       " {'Event': '100m freestyle', 'Time': '46.40'},\n",
       " {'Event': '200m freestyle', 'Time': '1:42.00'},\n",
       " {'Event': '400m freestyle', 'Time': '3:39.96'},\n",
       " {'Event': '800m freestyle', 'Time': '7:32.12'},\n",
       " {'Event': '1500m freestyle', 'Time': '14:30.67'},\n",
       " {'Event': '50m backstroke', 'Time': '23.55'},\n",
       " {'Event': '100m backstroke', 'Time': '51.60'},\n",
       " {'Event': '200m backstroke', 'Time': '1:51.92'},\n",
       " {'Event': '50m breaststroke', 'Time': '25.95'},\n",
       " {'Event': '100m breaststroke', 'Time': '56.88'},\n",
       " {'Event': '200m breaststroke', 'Time': '2:05.48'},\n",
       " {'Event': '50m butterfly', 'Time': '22.27'},\n",
       " {'Event': '100m butterfly', 'Time': '49.45'},\n",
       " {'Event': '200m butterfly', 'Time': '1:50.34'},\n",
       " {'Event': '200m individual medley', 'Time': '1:52.69'},\n",
       " {'Event': '400m individual medley', 'Time': '4:02.50'}]"
      ]
     },
     "execution_count": 17,
     "metadata": {},
     "output_type": "execute_result"
    }
   ],
   "source": [
    "df.to_dict(\"records\")"
   ]
  },
  {
   "cell_type": "code",
   "execution_count": null,
   "id": "1556a43e",
   "metadata": {},
   "outputs": [],
   "source": []
  }
 ],
 "metadata": {
  "kernelspec": {
   "display_name": "jupyter",
   "language": "python",
   "name": "python3"
  },
  "language_info": {
   "codemirror_mode": {
    "name": "ipython",
    "version": 3
   },
   "file_extension": ".py",
   "mimetype": "text/x-python",
   "name": "python",
   "nbconvert_exporter": "python",
   "pygments_lexer": "ipython3",
   "version": "3.12.3"
  }
 },
 "nbformat": 4,
 "nbformat_minor": 5
}
