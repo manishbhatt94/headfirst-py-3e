{
 "cells": [
  {
   "cell_type": "code",
   "execution_count": 18,
   "id": "42acca6c",
   "metadata": {},
   "outputs": [],
   "source": [
    "import data_utils"
   ]
  },
  {
   "cell_type": "code",
   "execution_count": 19,
   "id": "335d1e3b",
   "metadata": {},
   "outputs": [
    {
     "name": "stdout",
     "output_type": "stream",
     "text": [
      "['DataUtilsDbCm', 'data_utils_obj', 'db_details', 'get_session_swimmers', 'get_swim_sessions', 'get_swimmers_events', 'get_swimmers_times', 'platform']\n"
     ]
    }
   ],
   "source": [
    "print([x for x in dir(data_utils) if not x.startswith(\"__\")])"
   ]
  },
  {
   "cell_type": "code",
   "execution_count": 20,
   "id": "9adce8a7",
   "metadata": {},
   "outputs": [
    {
     "name": "stdout",
     "output_type": "stream",
     "text": [
      "Help on function get_swim_sessions in module data_utils:\n",
      "\n",
      "get_swim_sessions()\n",
      "    Return a tuple-list of unique session timestamps.\n",
      "\n"
     ]
    }
   ],
   "source": [
    "help(data_utils.get_swim_sessions)"
   ]
  },
  {
   "cell_type": "code",
   "execution_count": 21,
   "id": "c45ee9dc",
   "metadata": {},
   "outputs": [
    {
     "data": {
      "text/plain": [
       "[(datetime.datetime(2025, 8, 21, 10, 49, 4),),\n",
       " (datetime.datetime(2025, 8, 22, 11, 39, 51),)]"
      ]
     },
     "execution_count": 21,
     "metadata": {},
     "output_type": "execute_result"
    }
   ],
   "source": [
    "data_utils.get_swim_sessions()"
   ]
  },
  {
   "cell_type": "code",
   "execution_count": 22,
   "id": "9900ff4d",
   "metadata": {},
   "outputs": [
    {
     "data": {
      "text/plain": [
       "[('Abi', 10),\n",
       " ('Blake', 15),\n",
       " ('Darius', 13),\n",
       " ('Darius', 8),\n",
       " ('Dave', 17),\n",
       " ('Katie', 9),\n",
       " ('Maria', 9),\n",
       " ('Owen', 15)]"
      ]
     },
     "execution_count": 22,
     "metadata": {},
     "output_type": "execute_result"
    }
   ],
   "source": [
    "data_utils.get_session_swimmers(\"2025-08-22\")"
   ]
  },
  {
   "cell_type": "code",
   "execution_count": 23,
   "id": "50803740",
   "metadata": {},
   "outputs": [
    {
     "data": {
      "text/plain": [
       "[('50m', 'Back'), ('50m', 'Free'), ('50m', 'Breast')]"
      ]
     },
     "execution_count": 23,
     "metadata": {},
     "output_type": "execute_result"
    }
   ],
   "source": [
    "data_utils.get_swimmers_events(\"Darius\", 8, \"2025-08-22\")"
   ]
  },
  {
   "cell_type": "code",
   "execution_count": 24,
   "id": "010ad0b9",
   "metadata": {},
   "outputs": [
    {
     "data": {
      "text/plain": [
       "[('39.42',), ('36.13',), ('37.66',), ('39.07',)]"
      ]
     },
     "execution_count": 24,
     "metadata": {},
     "output_type": "execute_result"
    }
   ],
   "source": [
    "data_utils.get_swimmers_times(\"Darius\", 8, \"50m\", \"Free\", \"2025-08-22\")"
   ]
  },
  {
   "cell_type": "code",
   "execution_count": 25,
   "id": "ce5c54a8",
   "metadata": {},
   "outputs": [
    {
     "data": {
      "text/plain": [
       "[(datetime.datetime(2025, 8, 21, 10, 49, 4),),\n",
       " (datetime.datetime(2025, 8, 22, 11, 39, 51),)]"
      ]
     },
     "execution_count": 25,
     "metadata": {},
     "output_type": "execute_result"
    }
   ],
   "source": [
    "data = data_utils.get_swim_sessions()\n",
    "data"
   ]
  },
  {
   "cell_type": "code",
   "execution_count": 26,
   "id": "fecacd90",
   "metadata": {},
   "outputs": [
    {
     "data": {
      "text/plain": [
       "['2025-08-21', '2025-08-22']"
      ]
     },
     "execution_count": 26,
     "metadata": {},
     "output_type": "execute_result"
    }
   ],
   "source": [
    "[str(session[0].date()) for session in data]"
   ]
  },
  {
   "cell_type": "code",
   "execution_count": 27,
   "id": "fafbbb03",
   "metadata": {},
   "outputs": [
    {
     "name": "stdout",
     "output_type": "stream",
     "text": [
      "[('Abi', 10), ('Blake', 15), ('Darius', 8), ('Darius', 13), ('Dave', 17), ('Katie', 9), ('Maria', 9), ('Owen', 15)]\n"
     ]
    }
   ],
   "source": [
    "data = data_utils.get_session_swimmers(\"2025-08-22\")\n",
    "print(data)"
   ]
  },
  {
   "cell_type": "code",
   "execution_count": 28,
   "id": "1e3c0a68",
   "metadata": {},
   "outputs": [
    {
     "data": {
      "text/plain": [
       "['Abi-10',\n",
       " 'Blake-15',\n",
       " 'Darius-8',\n",
       " 'Darius-13',\n",
       " 'Dave-17',\n",
       " 'Katie-9',\n",
       " 'Maria-9',\n",
       " 'Owen-15']"
      ]
     },
     "execution_count": 28,
     "metadata": {},
     "output_type": "execute_result"
    }
   ],
   "source": [
    "[f\"{name}-{age}\" for name, age in data]"
   ]
  },
  {
   "cell_type": "code",
   "execution_count": 29,
   "id": "19333526",
   "metadata": {},
   "outputs": [
    {
     "name": "stdout",
     "output_type": "stream",
     "text": [
      "[('50m', 'Back'), ('50m', 'Free'), ('50m', 'Breast')]\n"
     ]
    }
   ],
   "source": [
    "data = data_utils.get_swimmers_events(\"Darius\", 8, \"2025-08-22\")\n",
    "print(data)"
   ]
  },
  {
   "cell_type": "code",
   "execution_count": 30,
   "id": "70677b67",
   "metadata": {},
   "outputs": [
    {
     "data": {
      "text/plain": [
       "['50m Back', '50m Free', '50m Breast']"
      ]
     },
     "execution_count": 30,
     "metadata": {},
     "output_type": "execute_result"
    }
   ],
   "source": [
    "[f\"{distance} {stroke}\" for distance, stroke in data]"
   ]
  },
  {
   "cell_type": "code",
   "execution_count": 31,
   "id": "3f3d330c",
   "metadata": {},
   "outputs": [
    {
     "name": "stdout",
     "output_type": "stream",
     "text": [
      "[('39.42',), ('36.13',), ('37.66',), ('39.07',)]\n"
     ]
    }
   ],
   "source": [
    "data = data_utils.get_swimmers_times(\"Darius\", 8, \"50m\", \"Free\", \"2025-08-22\")\n",
    "print(data)"
   ]
  },
  {
   "cell_type": "code",
   "execution_count": 32,
   "id": "f78908eb",
   "metadata": {},
   "outputs": [
    {
     "data": {
      "text/plain": [
       "['39.42', '36.13', '37.66', '39.07']"
      ]
     },
     "execution_count": 32,
     "metadata": {},
     "output_type": "execute_result"
    }
   ],
   "source": [
    "[time[0] for time in data]"
   ]
  },
  {
   "cell_type": "code",
   "execution_count": null,
   "id": "084c2a3d",
   "metadata": {},
   "outputs": [],
   "source": []
  }
 ],
 "metadata": {
  "kernelspec": {
   "display_name": "jupyter",
   "language": "python",
   "name": "python3"
  },
  "language_info": {
   "codemirror_mode": {
    "name": "ipython",
    "version": 3
   },
   "file_extension": ".py",
   "mimetype": "text/x-python",
   "name": "python",
   "nbconvert_exporter": "python",
   "pygments_lexer": "ipython3",
   "version": "3.12.3"
  }
 },
 "nbformat": 4,
 "nbformat_minor": 5
}
