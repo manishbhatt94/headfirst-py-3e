{
 "cells": [
  {
   "cell_type": "code",
   "execution_count": 12,
   "id": "98fa77aa",
   "metadata": {},
   "outputs": [],
   "source": [
    "fn = \"Abi-10-100m-Back.txt\"\n",
    "name, age, distance, stroke = fn.removesuffix(\".txt\").split(\"-\")"
   ]
  },
  {
   "cell_type": "code",
   "execution_count": 13,
   "id": "07d8b740",
   "metadata": {},
   "outputs": [
    {
     "data": {
      "text/plain": [
       "('Abi', '10')"
      ]
     },
     "execution_count": 13,
     "metadata": {},
     "output_type": "execute_result"
    }
   ],
   "source": [
    "name, age"
   ]
  },
  {
   "cell_type": "code",
   "execution_count": 14,
   "id": "34e93d9f",
   "metadata": {},
   "outputs": [
    {
     "data": {
      "text/plain": [
       "('100m', 'Back')"
      ]
     },
     "execution_count": 14,
     "metadata": {},
     "output_type": "execute_result"
    }
   ],
   "source": [
    "distance, stroke"
   ]
  },
  {
   "cell_type": "code",
   "execution_count": 15,
   "id": "99754792",
   "metadata": {},
   "outputs": [],
   "source": [
    "import os\n",
    "\n",
    "FOLDER = \"swimdata/\"\n",
    "\n",
    "files = os.listdir(FOLDER)\n",
    "if \".DS_Store\" in files:\n",
    "    files.remove(\".DS_Store\")"
   ]
  },
  {
   "cell_type": "code",
   "execution_count": 16,
   "id": "da5b4f94",
   "metadata": {},
   "outputs": [
    {
     "name": "stdout",
     "output_type": "stream",
     "text": [
      "Katie-9-50m-Back.txt\n"
     ]
    },
    {
     "data": {
      "text/plain": [
       "('Katie', '9')"
      ]
     },
     "execution_count": 16,
     "metadata": {},
     "output_type": "execute_result"
    }
   ],
   "source": [
    "first = files[0]\n",
    "print(first)\n",
    "name, age, _, _ = first.removesuffix(\".txt\").split(\"-\")\n",
    "name, age"
   ]
  },
  {
   "cell_type": "code",
   "execution_count": 17,
   "id": "72b3d75b",
   "metadata": {},
   "outputs": [],
   "source": [
    "import DBcm\n",
    "\n",
    "db_details = \"CoachDB.sqlite3\""
   ]
  },
  {
   "cell_type": "code",
   "execution_count": 18,
   "id": "1f13061e",
   "metadata": {},
   "outputs": [],
   "source": [
    "SQL_INSERT = \"\"\"\n",
    "    insert into swimmers\n",
    "    (name, age)\n",
    "    values\n",
    "    (?, ?)\n",
    "\"\"\""
   ]
  },
  {
   "cell_type": "code",
   "execution_count": 19,
   "id": "837a57cd",
   "metadata": {},
   "outputs": [],
   "source": [
    "with DBcm.UseDatabase(db_details) as db:\n",
    "    db.execute(\n",
    "        SQL_INSERT,\n",
    "        (\n",
    "            name,\n",
    "            age,\n",
    "        ),\n",
    "    )"
   ]
  },
  {
   "cell_type": "code",
   "execution_count": 29,
   "id": "02a2bf65",
   "metadata": {},
   "outputs": [
    {
     "data": {
      "text/plain": [
       "[(25, 'Katie', 9),\n",
       " (26, 'Calvin', 9),\n",
       " (27, 'Hannah', 13),\n",
       " (28, 'Mike', 15),\n",
       " (29, 'Darius', 13),\n",
       " (30, 'Elba', 14),\n",
       " (31, 'Abi', 10),\n",
       " (32, 'Erika', 15),\n",
       " (33, 'Ruth', 13),\n",
       " (34, 'Maria', 9),\n",
       " (35, 'Alison', 14),\n",
       " (36, 'Emma', 13),\n",
       " (37, 'Blake', 15),\n",
       " (38, 'Lizzie', 14),\n",
       " (39, 'Ali', 12),\n",
       " (40, 'Chris', 17),\n",
       " (41, 'Aurora', 13),\n",
       " (42, 'Tasmin', 15),\n",
       " (43, 'Bill', 18),\n",
       " (44, 'Carl', 15),\n",
       " (45, 'Dave', 17),\n",
       " (46, 'Owen', 15)]"
      ]
     },
     "execution_count": 29,
     "metadata": {},
     "output_type": "execute_result"
    }
   ],
   "source": [
    "SQL = \"\"\"\n",
    "    select * from swimmers\n",
    "\"\"\"\n",
    "\n",
    "with DBcm.UseDatabase(db_details) as db:\n",
    "    db.execute(SQL)\n",
    "    results = db.fetchall()\n",
    "\n",
    "results"
   ]
  },
  {
   "cell_type": "code",
   "execution_count": 27,
   "id": "87b0977c",
   "metadata": {},
   "outputs": [],
   "source": [
    "SQL = \"\"\"\n",
    "    delete from swimmers\n",
    "\"\"\"\n",
    "\n",
    "with DBcm.UseDatabase(db_details) as db:\n",
    "    db.execute(SQL)"
   ]
  },
  {
   "cell_type": "code",
   "execution_count": 28,
   "id": "7e2568b7",
   "metadata": {},
   "outputs": [],
   "source": [
    "import os\n",
    "\n",
    "import DBcm\n",
    "\n",
    "db_details = \"CoachDB.sqlite3\"\n",
    "\n",
    "FOLDER = \"swimdata/\"\n",
    "\n",
    "files = os.listdir(FOLDER)\n",
    "if \".DS_Store\" in files:\n",
    "    files.remove(\".DS_Store\")\n",
    "\n",
    "SQL_SELECT = \"\"\"\n",
    "    select * from swimmers\n",
    "    where name = ? and age = ?\n",
    "\"\"\"\n",
    "\n",
    "SQL_INSERT = \"\"\"\n",
    "    insert into swimmers\n",
    "    (name, age)\n",
    "    values\n",
    "    (?, ?)\n",
    "\"\"\"\n",
    "\n",
    "with DBcm.UseDatabase(db_details) as db:\n",
    "    for fn in files:\n",
    "        name, age, _, _ = fn.removesuffix(\".txt\").split(\"-\")\n",
    "        db.execute(\n",
    "            SQL_SELECT,\n",
    "            (\n",
    "                name,\n",
    "                age,\n",
    "            ),\n",
    "        )\n",
    "        if db.fetchall():\n",
    "            continue\n",
    "        db.execute(\n",
    "            SQL_INSERT,\n",
    "            (\n",
    "                name,\n",
    "                age,\n",
    "            ),\n",
    "        )"
   ]
  },
  {
   "cell_type": "code",
   "execution_count": null,
   "id": "2b376e50",
   "metadata": {},
   "outputs": [],
   "source": []
  }
 ],
 "metadata": {
  "kernelspec": {
   "display_name": "jupyter",
   "language": "python",
   "name": "python3"
  },
  "language_info": {
   "codemirror_mode": {
    "name": "ipython",
    "version": 3
   },
   "file_extension": ".py",
   "mimetype": "text/x-python",
   "name": "python",
   "nbconvert_exporter": "python",
   "pygments_lexer": "ipython3",
   "version": "3.12.3"
  }
 },
 "nbformat": 4,
 "nbformat_minor": 5
}
