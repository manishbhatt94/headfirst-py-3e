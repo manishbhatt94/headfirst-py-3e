{
 "cells": [
  {
   "cell_type": "code",
   "execution_count": 2,
   "id": "e31cbcbe",
   "metadata": {},
   "outputs": [
    {
     "name": "stdout",
     "output_type": "stream",
     "text": [
      "60\n"
     ]
    }
   ],
   "source": [
    "import os\n",
    "\n",
    "import swimclub\n",
    "\n",
    "swim_files = os.listdir(swimclub.FOLDER)\n",
    "if \".DS_Store\" in swim_files:\n",
    "    swim_files.remove(\".DS_Store\")\n",
    "\n",
    "# print(swim_files)\n",
    "print(len(swim_files))"
   ]
  },
  {
   "cell_type": "code",
   "execution_count": 3,
   "id": "b65bb522",
   "metadata": {},
   "outputs": [
    {
     "name": "stdout",
     "output_type": "stream",
     "text": [
      "['Katie', 'Calvin', 'Hannah', 'Mike', 'Darius', 'Mike', 'Elba', 'Abi', 'Erika', 'Darius', 'Ruth', 'Mike', 'Maria', 'Alison', 'Emma', 'Katie', 'Blake', 'Mike', 'Hannah', 'Mike', 'Katie', 'Lizzie', 'Ali', 'Ruth', 'Blake', 'Calvin', 'Katie', 'Erika', 'Darius', 'Chris', 'Aurora', 'Lizzie', 'Abi', 'Tasmin', 'Tasmin', 'Ruth', 'Ruth', 'Tasmin', 'Katie', 'Katie', 'Blake', 'Alison', 'Ali', 'Bill', 'Chris', 'Emma', 'Calvin', 'Abi', 'Darius', 'Bill', 'Abi', 'Tasmin', 'Carl', 'Erika', 'Katie', 'Dave', 'Ruth', 'Owen', 'Dave', 'Abi']\n"
     ]
    }
   ],
   "source": [
    "swimmers = []\n",
    "\n",
    "for filename in swim_files:\n",
    "    swimmer = swimclub.read_swim_data(filename)[0]\n",
    "    swimmers.append(swimmer)\n",
    "\n",
    "print(swimmers)"
   ]
  },
  {
   "cell_type": "code",
   "execution_count": 4,
   "id": "716bb0dc",
   "metadata": {},
   "outputs": [
    {
     "name": "stdout",
     "output_type": "stream",
     "text": [
      "['Carl', 'Owen', 'Chris', 'Blake', 'Elba', 'Calvin', 'Emma', 'Mike', 'Ali', 'Abi', 'Maria', 'Dave', 'Lizzie', 'Erika', 'Aurora', 'Bill', 'Alison', 'Darius', 'Hannah', 'Tasmin', 'Katie', 'Ruth']\n",
      "22\n"
     ]
    }
   ],
   "source": [
    "names = list(set(swimmers))\n",
    "\n",
    "print(names)\n",
    "print(len(names))"
   ]
  },
  {
   "cell_type": "code",
   "execution_count": 5,
   "id": "1a872802",
   "metadata": {},
   "outputs": [
    {
     "name": "stdout",
     "output_type": "stream",
     "text": [
      "['Katie', 'Calvin', 'Hannah', 'Mike', 'Darius', 'Elba', 'Abi', 'Erika', 'Ruth', 'Maria', 'Alison', 'Emma', 'Blake', 'Lizzie', 'Ali', 'Chris', 'Aurora', 'Tasmin', 'Bill', 'Carl', 'Dave', 'Owen']\n"
     ]
    }
   ],
   "source": [
    "swimmers = []\n",
    "for file in swim_files:\n",
    "    name = swimclub.read_swim_data(file)[0]\n",
    "    if name not in swimmers:\n",
    "        swimmers.append(name)\n",
    "\n",
    "print(swimmers)"
   ]
  },
  {
   "cell_type": "code",
   "execution_count": 6,
   "id": "9acba94e",
   "metadata": {},
   "outputs": [
    {
     "name": "stdout",
     "output_type": "stream",
     "text": [
      "['Abi', 'Ali', 'Alison', 'Aurora', 'Bill', 'Blake', 'Calvin', 'Carl', 'Chris', 'Darius', 'Dave', 'Elba', 'Emma', 'Erika', 'Hannah', 'Katie', 'Lizzie', 'Maria', 'Mike', 'Owen', 'Ruth', 'Tasmin']\n"
     ]
    }
   ],
   "source": [
    "print(sorted(names))"
   ]
  },
  {
   "cell_type": "code",
   "execution_count": 7,
   "id": "9ff71e04",
   "metadata": {},
   "outputs": [
    {
     "name": "stdout",
     "output_type": "stream",
     "text": [
      "['Abi', 'Ali', 'Alison', 'Aurora', 'Bill', 'Blake', 'Calvin', 'Carl', 'Chris', 'Darius', 'Dave', 'Elba', 'Emma', 'Erika', 'Hannah', 'Katie', 'Lizzie', 'Maria', 'Mike', 'Owen', 'Ruth', 'Tasmin']\n"
     ]
    }
   ],
   "source": [
    "print(sorted(swimmers))"
   ]
  },
  {
   "cell_type": "code",
   "execution_count": 8,
   "id": "6487aaa5",
   "metadata": {},
   "outputs": [],
   "source": [
    "swimmers = []\n",
    "for file in swim_files:\n",
    "    name = swimclub.read_swim_data(file)[0]\n",
    "    if name not in swimmers:\n",
    "        swimmers.append((name, file))"
   ]
  },
  {
   "cell_type": "code",
   "execution_count": 9,
   "id": "205cef58",
   "metadata": {},
   "outputs": [
    {
     "data": {
      "text/plain": [
       "[('Katie', 'Katie-9-50m-Back.txt'),\n",
       " ('Calvin', 'Calvin-9-50m-Fly.txt'),\n",
       " ('Hannah', 'Hannah-13-100m-Free.txt'),\n",
       " ('Mike', 'Mike-15-200m-IM.txt'),\n",
       " ('Darius', 'Darius-13-100m-Fly.txt'),\n",
       " ('Mike', 'Mike-15-100m-Free.txt')]"
      ]
     },
     "execution_count": 9,
     "metadata": {},
     "output_type": "execute_result"
    }
   ],
   "source": [
    "swimmers[:6]"
   ]
  },
  {
   "cell_type": "code",
   "execution_count": 10,
   "id": "167b7fb9",
   "metadata": {},
   "outputs": [
    {
     "name": "stdout",
     "output_type": "stream",
     "text": [
      "['Abi', 'Ali', 'Alison', 'Aurora', 'Bill', 'Blake', 'Calvin', 'Carl', 'Chris', 'Darius', 'Dave', 'Elba', 'Emma', 'Erika', 'Hannah', 'Katie', 'Lizzie', 'Maria', 'Mike', 'Owen', 'Ruth', 'Tasmin']\n"
     ]
    }
   ],
   "source": [
    "names = []\n",
    "for row in swimmers:\n",
    "    if row[0] not in names:\n",
    "        names.append(row[0])\n",
    "print(sorted(names))"
   ]
  },
  {
   "cell_type": "code",
   "execution_count": 11,
   "id": "72fb4a36",
   "metadata": {},
   "outputs": [
    {
     "name": "stdout",
     "output_type": "stream",
     "text": [
      "55 ('Dave', 'Dave-17-200m-Back.txt')\n",
      "58 ('Dave', 'Dave-17-100m-Free.txt')\n"
     ]
    }
   ],
   "source": [
    "for n, event in enumerate(swimmers):\n",
    "    if event[0] == \"Dave\":\n",
    "        print(n, event)"
   ]
  },
  {
   "cell_type": "code",
   "execution_count": 12,
   "id": "05347df9",
   "metadata": {},
   "outputs": [],
   "source": [
    "person = {\n",
    "    \"first\": \"Tim\",\n",
    "    \"last\": \"O'Reilly\",\n",
    "}"
   ]
  },
  {
   "cell_type": "code",
   "execution_count": 13,
   "id": "0bf2c940",
   "metadata": {},
   "outputs": [
    {
     "data": {
      "text/plain": [
       "'Tim'"
      ]
     },
     "execution_count": 13,
     "metadata": {},
     "output_type": "execute_result"
    }
   ],
   "source": [
    "person[\"first\"]"
   ]
  },
  {
   "cell_type": "code",
   "execution_count": 14,
   "id": "a65086d9",
   "metadata": {},
   "outputs": [
    {
     "data": {
      "text/plain": [
       "\"O'Reilly\""
      ]
     },
     "execution_count": 14,
     "metadata": {},
     "output_type": "execute_result"
    }
   ],
   "source": [
    "person[\"last\"]"
   ]
  },
  {
   "cell_type": "code",
   "execution_count": 15,
   "id": "8d4407a6",
   "metadata": {},
   "outputs": [],
   "source": [
    "names = {}"
   ]
  },
  {
   "cell_type": "code",
   "execution_count": 16,
   "id": "e43e7e15",
   "metadata": {},
   "outputs": [],
   "source": [
    "names[\"Dave\"] = \"Dave-17-100m-Free.txt\""
   ]
  },
  {
   "cell_type": "code",
   "execution_count": 17,
   "id": "2677c557",
   "metadata": {},
   "outputs": [],
   "source": [
    "swimmers = {}\n",
    "for file in swim_files:\n",
    "    name, *_ = swimclub.read_swim_data(file)\n",
    "    swimmers[name] = []"
   ]
  },
  {
   "cell_type": "code",
   "execution_count": 18,
   "id": "1f406087",
   "metadata": {},
   "outputs": [
    {
     "data": {
      "text/plain": [
       "{'Katie': [],\n",
       " 'Calvin': [],\n",
       " 'Hannah': [],\n",
       " 'Mike': [],\n",
       " 'Darius': [],\n",
       " 'Elba': [],\n",
       " 'Abi': [],\n",
       " 'Erika': [],\n",
       " 'Ruth': [],\n",
       " 'Maria': [],\n",
       " 'Alison': [],\n",
       " 'Emma': [],\n",
       " 'Blake': [],\n",
       " 'Lizzie': [],\n",
       " 'Ali': [],\n",
       " 'Chris': [],\n",
       " 'Aurora': [],\n",
       " 'Tasmin': [],\n",
       " 'Bill': [],\n",
       " 'Carl': [],\n",
       " 'Dave': [],\n",
       " 'Owen': []}"
      ]
     },
     "execution_count": 18,
     "metadata": {},
     "output_type": "execute_result"
    }
   ],
   "source": [
    "swimmers"
   ]
  },
  {
   "cell_type": "code",
   "execution_count": 19,
   "id": "3bfcfd93",
   "metadata": {},
   "outputs": [
    {
     "data": {
      "text/plain": [
       "22"
      ]
     },
     "execution_count": 19,
     "metadata": {},
     "output_type": "execute_result"
    }
   ],
   "source": [
    "len(swimmers)"
   ]
  },
  {
   "cell_type": "code",
   "execution_count": 20,
   "id": "2ada2a87",
   "metadata": {},
   "outputs": [
    {
     "name": "stdout",
     "output_type": "stream",
     "text": [
      "['Abi', 'Ali', 'Alison', 'Aurora', 'Bill', 'Blake', 'Calvin', 'Carl', 'Chris', 'Darius', 'Dave', 'Elba', 'Emma', 'Erika', 'Hannah', 'Katie', 'Lizzie', 'Maria', 'Mike', 'Owen', 'Ruth', 'Tasmin']\n"
     ]
    }
   ],
   "source": [
    "print(sorted(swimmers))"
   ]
  },
  {
   "cell_type": "code",
   "execution_count": 21,
   "id": "b2d77dc8",
   "metadata": {},
   "outputs": [
    {
     "data": {
      "text/plain": [
       "[]"
      ]
     },
     "execution_count": 21,
     "metadata": {},
     "output_type": "execute_result"
    }
   ],
   "source": [
    "swimmers[\"Dave\"]"
   ]
  },
  {
   "cell_type": "code",
   "execution_count": 22,
   "id": "5810c602",
   "metadata": {},
   "outputs": [
    {
     "name": "stdout",
     "output_type": "stream",
     "text": [
      "['__class__', '__class_getitem__', '__contains__', '__delattr__', '__delitem__', '__dir__', '__doc__', '__eq__', '__format__', '__ge__', '__getattribute__', '__getitem__', '__getstate__', '__gt__', '__hash__', '__init__', '__init_subclass__', '__ior__', '__iter__', '__le__', '__len__', '__lt__', '__ne__', '__new__', '__or__', '__reduce__', '__reduce_ex__', '__repr__', '__reversed__', '__ror__', '__setattr__', '__setitem__', '__sizeof__', '__str__', '__subclasshook__', 'clear', 'copy', 'fromkeys', 'get', 'items', 'keys', 'pop', 'popitem', 'setdefault', 'update', 'values']\n"
     ]
    }
   ],
   "source": [
    "print(dir(swimmers))"
   ]
  },
  {
   "cell_type": "code",
   "execution_count": 23,
   "id": "e43ac919",
   "metadata": {},
   "outputs": [],
   "source": [
    "swimmers = {}\n",
    "for file in swim_files:\n",
    "    name, *_ = swimclub.read_swim_data(file)\n",
    "    if name not in swimmers:\n",
    "        swimmers[name] = []\n",
    "    swimmers[name].append(file)"
   ]
  },
  {
   "cell_type": "code",
   "execution_count": 24,
   "id": "c890924e",
   "metadata": {},
   "outputs": [
    {
     "data": {
      "text/plain": [
       "['Dave-17-200m-Back.txt', 'Dave-17-100m-Free.txt']"
      ]
     },
     "execution_count": 24,
     "metadata": {},
     "output_type": "execute_result"
    }
   ],
   "source": [
    "swimmers[\"Dave\"]"
   ]
  },
  {
   "cell_type": "code",
   "execution_count": 25,
   "id": "4a8f0146",
   "metadata": {},
   "outputs": [
    {
     "data": {
      "text/plain": [
       "['Darius-13-100m-Fly.txt',\n",
       " 'Darius-13-200m-IM.txt',\n",
       " 'Darius-13-100m-Back.txt',\n",
       " 'Darius-13-100m-Breast.txt']"
      ]
     },
     "execution_count": 25,
     "metadata": {},
     "output_type": "execute_result"
    }
   ],
   "source": [
    "swimmers[\"Darius\"]"
   ]
  },
  {
   "cell_type": "code",
   "execution_count": 26,
   "id": "f00e78ec",
   "metadata": {},
   "outputs": [
    {
     "name": "stdout",
     "output_type": "stream",
     "text": [
      "{'Abi': ['Abi-10-50m-Back.txt',\n",
      "         'Abi-10-100m-Breast.txt',\n",
      "         'Abi-10-50m-Breast.txt',\n",
      "         'Abi-10-50m-Free.txt',\n",
      "         'Abi-10-100m-Back.txt'],\n",
      " 'Ali': ['Ali-12-100m-Back.txt', 'Ali-12-100m-Free.txt'],\n",
      " 'Alison': ['Alison-14-100m-Free.txt', 'Alison-14-100m-Breast.txt'],\n",
      " 'Aurora': ['Aurora-13-50m-Free.txt'],\n",
      " 'Bill': ['Bill-18-200m-Back.txt', 'Bill-18-100m-Back.txt'],\n",
      " 'Blake': ['Blake-15-100m-Back.txt',\n",
      "           'Blake-15-100m-Free.txt',\n",
      "           'Blake-15-100m-Fly.txt'],\n",
      " 'Calvin': ['Calvin-9-50m-Fly.txt',\n",
      "            'Calvin-9-50m-Free.txt',\n",
      "            'Calvin-9-50m-Back.txt'],\n",
      " 'Carl': ['Carl-15-100m-Back.txt'],\n",
      " 'Chris': ['Chris-17-100m-Back.txt', 'Chris-17-100m-Breast.txt'],\n",
      " 'Darius': ['Darius-13-100m-Fly.txt',\n",
      "            'Darius-13-200m-IM.txt',\n",
      "            'Darius-13-100m-Back.txt',\n",
      "            'Darius-13-100m-Breast.txt'],\n",
      " 'Dave': ['Dave-17-200m-Back.txt', 'Dave-17-100m-Free.txt'],\n",
      " 'Elba': ['Elba-14-100m-Free.txt'],\n",
      " 'Emma': ['Emma-13-100m-Free.txt', 'Emma-13-100m-Breast.txt'],\n",
      " 'Erika': ['Erika-15-100m-Breast.txt',\n",
      "           'Erika-15-200m-Breast.txt',\n",
      "           'Erika-15-100m-Free.txt'],\n",
      " 'Hannah': ['Hannah-13-100m-Free.txt', 'Hannah-13-100m-Back.txt'],\n",
      " 'Katie': ['Katie-9-50m-Back.txt',\n",
      "           'Katie-9-50m-Breast.txt',\n",
      "           'Katie-9-100m-Free.txt',\n",
      "           'Katie-9-100m-Breast.txt',\n",
      "           'Katie-9-50m-Free.txt',\n",
      "           'Katie-9-50m-Fly.txt',\n",
      "           'Katie-9-100m-Back.txt'],\n",
      " 'Lizzie': ['Lizzie-14-100m-Free.txt', 'Lizzie-14-100m-Back.txt'],\n",
      " 'Maria': ['Maria-9-50m-Free.txt'],\n",
      " 'Mike': ['Mike-15-200m-IM.txt',\n",
      "          'Mike-15-100m-Free.txt',\n",
      "          'Mike-15-200m-Free.txt',\n",
      "          'Mike-15-100m-Fly.txt',\n",
      "          'Mike-15-100m-Back.txt'],\n",
      " 'Owen': ['Owen-15-100m-Free.txt'],\n",
      " 'Ruth': ['Ruth-13-100m-Free.txt',\n",
      "          'Ruth-13-400m-Free.txt',\n",
      "          'Ruth-13-200m-Back.txt',\n",
      "          'Ruth-13-100m-Back.txt',\n",
      "          'Ruth-13-200m-Free.txt'],\n",
      " 'Tasmin': ['Tasmin-15-100m-Free.txt',\n",
      "            'Tasmin-15-200m-Breast.txt',\n",
      "            'Tasmin-15-100m-Back.txt',\n",
      "            'Tasmin-15-100m-Breast.txt']}\n"
     ]
    }
   ],
   "source": [
    "import pprint\n",
    "\n",
    "pprint.pprint(swimmers)"
   ]
  },
  {
   "cell_type": "code",
   "execution_count": null,
   "id": "d86c3d7f",
   "metadata": {},
   "outputs": [],
   "source": [
    "import os\n",
    "import webbrowser\n",
    "\n",
    "import swimclub\n",
    "\n",
    "for fname in swimmers[\"Calvin\"]:\n",
    "    webbrowser.open(\"file://\" + os.path.realpath(swimclub.produce_bar_chart(fname)))"
   ]
  },
  {
   "cell_type": "code",
   "execution_count": null,
   "id": "053a8683",
   "metadata": {},
   "outputs": [],
   "source": []
  }
 ],
 "metadata": {
  "kernelspec": {
   "display_name": "jupyter",
   "language": "python",
   "name": "python3"
  },
  "language_info": {
   "codemirror_mode": {
    "name": "ipython",
    "version": 3
   },
   "file_extension": ".py",
   "mimetype": "text/x-python",
   "name": "python",
   "nbconvert_exporter": "python",
   "pygments_lexer": "ipython3",
   "version": "3.12.3"
  }
 },
 "nbformat": 4,
 "nbformat_minor": 5
}
