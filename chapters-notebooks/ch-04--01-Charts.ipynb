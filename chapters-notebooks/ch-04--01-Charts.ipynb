{
 "cells": [
  {
   "cell_type": "code",
   "execution_count": 6,
   "id": "e37983cf",
   "metadata": {},
   "outputs": [],
   "source": [
    "import swimclub\n",
    "\n",
    "fn = \"Darius-13-100m-Fly.txt\"\n",
    "\n",
    "(swimmer, age, distance, stroke, *_) = swimclub.read_swim_data(fn)\n",
    "\n",
    "title = f\"{swimmer} (Under {age}) {distance} {stroke}\""
   ]
  },
  {
   "cell_type": "code",
   "execution_count": 7,
   "id": "d8161d87",
   "metadata": {},
   "outputs": [
    {
     "data": {
      "text/plain": [
       "'Darius (Under 13) 100m Fly'"
      ]
     },
     "execution_count": 7,
     "metadata": {},
     "output_type": "execute_result"
    }
   ],
   "source": [
    "title"
   ]
  },
  {
   "cell_type": "code",
   "execution_count": 8,
   "id": "53639c49",
   "metadata": {},
   "outputs": [],
   "source": [
    "html = f\"\"\"<!DOCTYPE html>\n",
    "<html lang=\"en-IN\">\n",
    "    <head><title>{title}</title></head>\n",
    "    <body>\n",
    "        <h3>{title}</h3>\n",
    "\"\"\""
   ]
  },
  {
   "cell_type": "code",
   "execution_count": 9,
   "id": "d670071e",
   "metadata": {},
   "outputs": [
    {
     "data": {
      "text/plain": [
       "'<!DOCTYPE html>\\n<html lang=\"en-IN\">\\n    <head><title>Darius (Under 13) 100m Fly</title></head>\\n    <body>\\n        <h3>Darius (Under 13) 100m Fly</h3>\\n'"
      ]
     },
     "execution_count": 9,
     "metadata": {},
     "output_type": "execute_result"
    }
   ],
   "source": [
    "html"
   ]
  },
  {
   "cell_type": "code",
   "execution_count": 10,
   "id": "cb7ddd29",
   "metadata": {},
   "outputs": [],
   "source": [
    "import hfpy_utils\n",
    "import swimclub\n",
    "\n",
    "fn = \"Darius-13-100m-Fly.txt\"\n",
    "*_, times, average, converts = swimclub.read_swim_data(fn)\n",
    "from_max = max(converts)\n",
    "times.reverse()\n",
    "converts.reverse()\n",
    "svgs = \"\"\n",
    "\n",
    "for n, t in enumerate(times):\n",
    "    bar_width = hfpy_utils.convert2range(converts[n], 0, from_max, 0, 350)\n",
    "    svgs += f\"\"\"\n",
    "        <svg height=\"30\" width=\"400\">\n",
    "            <rect height=\"30\" width=\"{bar_width}\" style=\"fill:rgb(0,0,255);\" />\n",
    "        </svg>{t}<br />\n",
    "        \"\"\"\n"
   ]
  },
  {
   "cell_type": "code",
   "execution_count": 11,
   "id": "d2794a45",
   "metadata": {},
   "outputs": [
    {
     "name": "stdout",
     "output_type": "stream",
     "text": [
      "\n",
      "        <svg height=\"30\" width=\"400\">\n",
      "            <rect height=\"30\" width=\"339.76\" style=\"fill:rgb(0,0,255);\" />\n",
      "        </svg>1:28.30<br />\n",
      "        \n",
      "        <svg height=\"30\" width=\"400\">\n",
      "            <rect height=\"30\" width=\"338.42\" style=\"fill:rgb(0,0,255);\" />\n",
      "        </svg>1:27.95<br />\n",
      "        \n",
      "        <svg height=\"30\" width=\"400\">\n",
      "            <rect height=\"30\" width=\"320.22\" style=\"fill:rgb(0,0,255);\" />\n",
      "        </svg>1:23.22<br />\n",
      "        \n",
      "        <svg height=\"30\" width=\"400\">\n",
      "            <rect height=\"30\" width=\"350.0\" style=\"fill:rgb(0,0,255);\" />\n",
      "        </svg>1:30.96<br />\n",
      "        \n",
      "        <svg height=\"30\" width=\"400\">\n",
      "            <rect height=\"30\" width=\"311.94\" style=\"fill:rgb(0,0,255);\" />\n",
      "        </svg>1:21.07<br />\n",
      "        \n",
      "        <svg height=\"30\" width=\"400\">\n",
      "            <rect height=\"30\" width=\"338.42\" style=\"fill:rgb(0,0,255);\" />\n",
      "        </svg>1:27.95<br />\n",
      "        \n"
     ]
    }
   ],
   "source": [
    "print(svgs)"
   ]
  },
  {
   "cell_type": "code",
   "execution_count": 12,
   "id": "3fc058d5",
   "metadata": {},
   "outputs": [],
   "source": [
    "footer = f\"\"\"\n",
    "        <p>Average time: {average}</p>\n",
    "    </body>\n",
    "</html>\n",
    "\"\"\""
   ]
  },
  {
   "cell_type": "code",
   "execution_count": 13,
   "id": "18f8942e",
   "metadata": {},
   "outputs": [],
   "source": [
    "page = html + svgs + footer"
   ]
  },
  {
   "cell_type": "code",
   "execution_count": 14,
   "id": "e8060f02",
   "metadata": {},
   "outputs": [],
   "source": [
    "with open(\"test.txt\", \"w\") as tf:\n",
    "    print(\"This is a test.\", file=tf)"
   ]
  },
  {
   "cell_type": "code",
   "execution_count": 15,
   "id": "ef4cc3ee",
   "metadata": {},
   "outputs": [],
   "source": [
    "save_to = f\"charts/{fn.removesuffix('.txt')}.html\"\n",
    "\n",
    "with open(save_to, \"w\") as sf:\n",
    "    print(page, file=sf)"
   ]
  },
  {
   "cell_type": "code",
   "execution_count": 16,
   "id": "6ca8657c",
   "metadata": {},
   "outputs": [
    {
     "data": {
      "text/plain": [
       "True"
      ]
     },
     "execution_count": 16,
     "metadata": {},
     "output_type": "execute_result"
    }
   ],
   "source": [
    "import os\n",
    "import webbrowser\n",
    "\n",
    "webbrowser.open(\"file://\" + os.path.realpath(save_to))"
   ]
  },
  {
   "cell_type": "code",
   "execution_count": 17,
   "id": "32a13ef0",
   "metadata": {},
   "outputs": [],
   "source": [
    "import os\n",
    "import webbrowser\n",
    "\n",
    "import swimclub"
   ]
  },
  {
   "cell_type": "code",
   "execution_count": 18,
   "id": "7e1c0300",
   "metadata": {},
   "outputs": [
    {
     "name": "stderr",
     "output_type": "stream",
     "text": [
      "gio: file:///home/manish/development/tutorials/python/head-first-python/hf-py-code/chapters-notebooks/charts/Darius-13-100m-Fly.html: Failed to find default application for content type ‘text/html’\n"
     ]
    },
    {
     "data": {
      "text/plain": [
       "'charts/Darius-13-100m-Fly.html'"
      ]
     },
     "execution_count": 18,
     "metadata": {},
     "output_type": "execute_result"
    }
   ],
   "source": [
    "swimclub.produce_bar_chart(\"Darius-13-100m-Fly.txt\")"
   ]
  },
  {
   "cell_type": "code",
   "execution_count": 19,
   "id": "020a76d1",
   "metadata": {},
   "outputs": [
    {
     "data": {
      "text/plain": [
       "True"
      ]
     },
     "execution_count": 19,
     "metadata": {},
     "output_type": "execute_result"
    },
    {
     "name": "stderr",
     "output_type": "stream",
     "text": [
      "gio: file:///home/manish/development/tutorials/python/head-first-python/hf-py-code/chapters-notebooks/charts/Darius-13-100m-Fly.html: Failed to find default application for content type ‘text/html’\n"
     ]
    }
   ],
   "source": [
    "chart = swimclub.produce_bar_chart(\"Darius-13-100m-Fly.txt\")\n",
    "\n",
    "webbrowser.open(\"file://\" + os.path.realpath(chart))"
   ]
  },
  {
   "cell_type": "code",
   "execution_count": 20,
   "id": "9e557136",
   "metadata": {},
   "outputs": [
    {
     "name": "stderr",
     "output_type": "stream",
     "text": [
      "gio: file:///home/manish/development/tutorials/python/head-first-python/hf-py-code/chapters-notebooks/charts/Lizzie-14-100m-Back.html: Failed to find default application for content type ‘text/html’\n"
     ]
    },
    {
     "data": {
      "text/plain": [
       "True"
      ]
     },
     "execution_count": 20,
     "metadata": {},
     "output_type": "execute_result"
    }
   ],
   "source": [
    "chart = swimclub.produce_bar_chart(\"Lizzie-14-100m-Back.txt\")\n",
    "\n",
    "webbrowser.open(\"file://\" + os.path.realpath(chart))"
   ]
  },
  {
   "cell_type": "code",
   "execution_count": 21,
   "id": "c4ac7ee4",
   "metadata": {},
   "outputs": [
    {
     "data": {
      "text/plain": [
       "True"
      ]
     },
     "execution_count": 21,
     "metadata": {},
     "output_type": "execute_result"
    },
    {
     "name": "stderr",
     "output_type": "stream",
     "text": [
      "gio: file:///home/manish/development/tutorials/python/head-first-python/hf-py-code/chapters-notebooks/charts/Dave-17-100m-Free.html: Failed to find default application for content type ‘text/html’\n"
     ]
    }
   ],
   "source": [
    "chart = swimclub.produce_bar_chart(\"Dave-17-100m-Free.txt\")\n",
    "\n",
    "webbrowser.open(\"file://\" + os.path.realpath(chart))"
   ]
  },
  {
   "cell_type": "code",
   "execution_count": null,
   "id": "6a7f1127",
   "metadata": {},
   "outputs": [],
   "source": []
  }
 ],
 "metadata": {
  "kernelspec": {
   "display_name": "jupyter",
   "language": "python",
   "name": "python3"
  },
  "language_info": {
   "codemirror_mode": {
    "name": "ipython",
    "version": 3
   },
   "file_extension": ".py",
   "mimetype": "text/x-python",
   "name": "python",
   "nbconvert_exporter": "python",
   "pygments_lexer": "ipython3",
   "version": "3.12.3"
  }
 },
 "nbformat": 4,
 "nbformat_minor": 5
}
