{
 "cells": [
  {
   "cell_type": "code",
   "execution_count": null,
   "id": "57785949",
   "metadata": {},
   "outputs": [],
   "source": [
    "import random\n",
    "\n",
    "\n",
    "class CardDeck:\n",
    "    def __init__(self):\n",
    "        self.reset()\n",
    "\n",
    "    def reset(self):\n",
    "        suits = [\"Clubs\", \"Spades\", \"Hearts\", \"Diamonds\"]\n",
    "        faces = [\"Jack\", \"Queen\", \"King\", \"Ace\"]\n",
    "        numbered = [2, 3, 4, 5, 6, 7, 8, 9, 10]\n",
    "        self.deck = set()\n",
    "        for suit in suits:\n",
    "            for card in faces + numbered:\n",
    "                self.deck.add(f\"{card} of {suit}\")\n",
    "\n",
    "    def draw(self):\n",
    "        card = random.choice(list(self.deck))\n",
    "        self.deck.remove(card)\n",
    "        return card\n",
    "\n",
    "    def __len__(self):\n",
    "        return len(self.deck)\n"
   ]
  },
  {
   "cell_type": "code",
   "execution_count": 2,
   "id": "eb1d693a",
   "metadata": {},
   "outputs": [],
   "source": [
    "deck = CardDeck()"
   ]
  },
  {
   "cell_type": "code",
   "execution_count": 3,
   "id": "f48e1bbd",
   "metadata": {},
   "outputs": [
    {
     "data": {
      "text/plain": [
       "52"
      ]
     },
     "execution_count": 3,
     "metadata": {},
     "output_type": "execute_result"
    }
   ],
   "source": [
    "len(deck)"
   ]
  },
  {
   "cell_type": "code",
   "execution_count": 4,
   "id": "079069e2",
   "metadata": {},
   "outputs": [
    {
     "name": "stdout",
     "output_type": "stream",
     "text": [
      "2 of Clubs\n",
      "9 of Clubs\n",
      "9 of Diamonds\n",
      "4 of Clubs\n",
      "King of Hearts\n"
     ]
    }
   ],
   "source": [
    "for _ in range(5):\n",
    "    print(deck.draw())"
   ]
  },
  {
   "cell_type": "code",
   "execution_count": 5,
   "id": "4a127d75",
   "metadata": {},
   "outputs": [
    {
     "data": {
      "text/plain": [
       "47"
      ]
     },
     "execution_count": 5,
     "metadata": {},
     "output_type": "execute_result"
    }
   ],
   "source": [
    "len(deck)"
   ]
  },
  {
   "cell_type": "code",
   "execution_count": 6,
   "id": "b76a9917",
   "metadata": {},
   "outputs": [],
   "source": [
    "deck.reset()"
   ]
  },
  {
   "cell_type": "code",
   "execution_count": 7,
   "id": "e3fba605",
   "metadata": {},
   "outputs": [
    {
     "data": {
      "text/plain": [
       "52"
      ]
     },
     "execution_count": 7,
     "metadata": {},
     "output_type": "execute_result"
    }
   ],
   "source": [
    "len(deck)"
   ]
  },
  {
   "cell_type": "code",
   "execution_count": null,
   "id": "6653f28e",
   "metadata": {},
   "outputs": [],
   "source": []
  }
 ],
 "metadata": {
  "kernelspec": {
   "display_name": "jupyter",
   "language": "python",
   "name": "python3"
  },
  "language_info": {
   "codemirror_mode": {
    "name": "ipython",
    "version": 3
   },
   "file_extension": ".py",
   "mimetype": "text/x-python",
   "name": "python",
   "nbconvert_exporter": "python",
   "pygments_lexer": "ipython3",
   "version": "3.12.3"
  }
 },
 "nbformat": 4,
 "nbformat_minor": 5
}
