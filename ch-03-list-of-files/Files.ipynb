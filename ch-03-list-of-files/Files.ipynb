{
 "cells": [
  {
   "cell_type": "code",
   "execution_count": 1,
   "id": "7a6cc8ad",
   "metadata": {},
   "outputs": [],
   "source": [
    "import swimclub"
   ]
  },
  {
   "cell_type": "code",
   "execution_count": 2,
   "id": "dd85adbc",
   "metadata": {},
   "outputs": [
    {
     "data": {
      "text/plain": [
       "('Darius',\n",
       " '13',\n",
       " '100m',\n",
       " 'Fly',\n",
       " ['1:27.95', '1:21.07', '1:30.96', '1:23.22', '1:27.95', '1:28.30'],\n",
       " '01:26.58')"
      ]
     },
     "execution_count": 2,
     "metadata": {},
     "output_type": "execute_result"
    }
   ],
   "source": [
    "swimclub.read_swim_data(\"Darius-13-100m-Fly.txt\")"
   ]
  },
  {
   "cell_type": "code",
   "execution_count": 3,
   "id": "1687feb7",
   "metadata": {},
   "outputs": [],
   "source": [
    "data = swimclub.read_swim_data(\"Darius-13-100m-Fly.txt\")"
   ]
  },
  {
   "cell_type": "code",
   "execution_count": 4,
   "id": "ce43aabc",
   "metadata": {},
   "outputs": [
    {
     "data": {
      "text/plain": [
       "['1:27.95', '1:21.07', '1:30.96', '1:23.22', '1:27.95', '1:28.30']"
      ]
     },
     "execution_count": 4,
     "metadata": {},
     "output_type": "execute_result"
    }
   ],
   "source": [
    "times = data[4]\n",
    "times"
   ]
  },
  {
   "cell_type": "code",
   "execution_count": 5,
   "id": "e3da3fbc",
   "metadata": {},
   "outputs": [
    {
     "data": {
      "text/plain": [
       "['1:27.95', '1:21.07', '1:30.96', '1:23.22', '1:27.95', '1:28.30']"
      ]
     },
     "execution_count": 5,
     "metadata": {},
     "output_type": "execute_result"
    }
   ],
   "source": [
    "swimmer, age, distance, stroke, times2, average = data\n",
    "\n",
    "times2"
   ]
  },
  {
   "cell_type": "code",
   "execution_count": 6,
   "id": "75f73518",
   "metadata": {},
   "outputs": [
    {
     "data": {
      "text/plain": [
       "('Blake',\n",
       " '15',\n",
       " '100m',\n",
       " 'Free',\n",
       " ['1:02.13', '1:03.25', '1:04.16', '1:03.17', '1:04.84', '1:03.88', '1:04.87'],\n",
       " '01:03.76')"
      ]
     },
     "execution_count": 6,
     "metadata": {},
     "output_type": "execute_result"
    }
   ],
   "source": [
    "swimclub.read_swim_data(\"Blake-15-100m-Free.txt\")"
   ]
  },
  {
   "cell_type": "code",
   "execution_count": 7,
   "id": "f92a9304",
   "metadata": {},
   "outputs": [],
   "source": [
    "import os"
   ]
  },
  {
   "cell_type": "code",
   "execution_count": 8,
   "id": "746f2782",
   "metadata": {},
   "outputs": [],
   "source": [
    "swim_files = os.listdir(swimclub.FOLDER)"
   ]
  },
  {
   "cell_type": "code",
   "execution_count": 9,
   "id": "824a27ee",
   "metadata": {},
   "outputs": [
    {
     "data": {
      "text/plain": [
       "60"
      ]
     },
     "execution_count": 9,
     "metadata": {},
     "output_type": "execute_result"
    }
   ],
   "source": [
    "len(swim_files)"
   ]
  },
  {
   "cell_type": "code",
   "execution_count": 10,
   "id": "3e403fe9",
   "metadata": {},
   "outputs": [
    {
     "name": "stdout",
     "output_type": "stream",
     "text": [
      "['Katie-9-50m-Back.txt', 'Calvin-9-50m-Fly.txt', 'Hannah-13-100m-Free.txt', 'Mike-15-200m-IM.txt', 'Darius-13-100m-Fly.txt', 'Mike-15-100m-Free.txt', 'Elba-14-100m-Free.txt', 'Abi-10-50m-Back.txt', 'Erika-15-100m-Breast.txt', 'Darius-13-200m-IM.txt', 'Ruth-13-100m-Free.txt', 'Mike-15-200m-Free.txt', 'Maria-9-50m-Free.txt', 'Alison-14-100m-Free.txt', 'Emma-13-100m-Free.txt', 'Katie-9-50m-Breast.txt', 'Blake-15-100m-Back.txt', 'Mike-15-100m-Fly.txt', 'Hannah-13-100m-Back.txt', 'Mike-15-100m-Back.txt', 'Katie-9-100m-Free.txt', 'Lizzie-14-100m-Free.txt', 'Ali-12-100m-Back.txt', 'Ruth-13-400m-Free.txt', 'Blake-15-100m-Free.txt', 'Calvin-9-50m-Free.txt', 'Katie-9-100m-Breast.txt', 'Erika-15-200m-Breast.txt', 'Darius-13-100m-Back.txt', 'Chris-17-100m-Back.txt', 'Aurora-13-50m-Free.txt', 'Lizzie-14-100m-Back.txt', 'Abi-10-100m-Breast.txt', 'Tasmin-15-100m-Free.txt', 'Tasmin-15-200m-Breast.txt', 'Ruth-13-200m-Back.txt', 'Ruth-13-100m-Back.txt', 'Tasmin-15-100m-Back.txt', 'Katie-9-50m-Free.txt', 'Katie-9-50m-Fly.txt', 'Blake-15-100m-Fly.txt', 'Alison-14-100m-Breast.txt', 'Ali-12-100m-Free.txt', 'Bill-18-200m-Back.txt', 'Chris-17-100m-Breast.txt', 'Emma-13-100m-Breast.txt', 'Calvin-9-50m-Back.txt', 'Abi-10-50m-Breast.txt', 'Darius-13-100m-Breast.txt', 'Bill-18-100m-Back.txt', 'Abi-10-50m-Free.txt', 'Tasmin-15-100m-Breast.txt', 'Carl-15-100m-Back.txt', 'Erika-15-100m-Free.txt', 'Katie-9-100m-Back.txt', 'Dave-17-200m-Back.txt', 'Ruth-13-200m-Free.txt', 'Owen-15-100m-Free.txt', 'Dave-17-100m-Free.txt', 'Abi-10-100m-Back.txt']\n"
     ]
    }
   ],
   "source": [
    "print(swim_files)"
   ]
  },
  {
   "cell_type": "code",
   "execution_count": 11,
   "id": "efe949c4",
   "metadata": {},
   "outputs": [
    {
     "name": "stdout",
     "output_type": "stream",
     "text": [
      "['Abi-10-100m-Back.txt', 'Abi-10-100m-Breast.txt', 'Abi-10-50m-Back.txt', 'Abi-10-50m-Breast.txt', 'Abi-10-50m-Free.txt', 'Ali-12-100m-Back.txt', 'Ali-12-100m-Free.txt', 'Alison-14-100m-Breast.txt', 'Alison-14-100m-Free.txt', 'Aurora-13-50m-Free.txt', 'Bill-18-100m-Back.txt', 'Bill-18-200m-Back.txt', 'Blake-15-100m-Back.txt', 'Blake-15-100m-Fly.txt', 'Blake-15-100m-Free.txt', 'Calvin-9-50m-Back.txt', 'Calvin-9-50m-Fly.txt', 'Calvin-9-50m-Free.txt', 'Carl-15-100m-Back.txt', 'Chris-17-100m-Back.txt', 'Chris-17-100m-Breast.txt', 'Darius-13-100m-Back.txt', 'Darius-13-100m-Breast.txt', 'Darius-13-100m-Fly.txt', 'Darius-13-200m-IM.txt', 'Dave-17-100m-Free.txt', 'Dave-17-200m-Back.txt', 'Elba-14-100m-Free.txt', 'Emma-13-100m-Breast.txt', 'Emma-13-100m-Free.txt', 'Erika-15-100m-Breast.txt', 'Erika-15-100m-Free.txt', 'Erika-15-200m-Breast.txt', 'Hannah-13-100m-Back.txt', 'Hannah-13-100m-Free.txt', 'Katie-9-100m-Back.txt', 'Katie-9-100m-Breast.txt', 'Katie-9-100m-Free.txt', 'Katie-9-50m-Back.txt', 'Katie-9-50m-Breast.txt', 'Katie-9-50m-Fly.txt', 'Katie-9-50m-Free.txt', 'Lizzie-14-100m-Back.txt', 'Lizzie-14-100m-Free.txt', 'Maria-9-50m-Free.txt', 'Mike-15-100m-Back.txt', 'Mike-15-100m-Fly.txt', 'Mike-15-100m-Free.txt', 'Mike-15-200m-Free.txt', 'Mike-15-200m-IM.txt', 'Owen-15-100m-Free.txt', 'Ruth-13-100m-Back.txt', 'Ruth-13-100m-Free.txt', 'Ruth-13-200m-Back.txt', 'Ruth-13-200m-Free.txt', 'Ruth-13-400m-Free.txt', 'Tasmin-15-100m-Back.txt', 'Tasmin-15-100m-Breast.txt', 'Tasmin-15-100m-Free.txt', 'Tasmin-15-200m-Breast.txt']\n"
     ]
    }
   ],
   "source": [
    "print(sorted(swim_files))"
   ]
  },
  {
   "cell_type": "code",
   "execution_count": 12,
   "id": "045ae787",
   "metadata": {},
   "outputs": [
    {
     "name": "stdout",
     "output_type": "stream",
     "text": [
      "Help on built-in function index:\n",
      "\n",
      "index(value, start=0, stop=9223372036854775807, /) method of builtins.list instance\n",
      "    Return first index of value.\n",
      "\n",
      "    Raises ValueError if the value is not present.\n",
      "\n"
     ]
    }
   ],
   "source": [
    "help(swim_files.index)"
   ]
  },
  {
   "cell_type": "code",
   "execution_count": 13,
   "id": "1e5bb801",
   "metadata": {},
   "outputs": [
    {
     "data": {
      "text/plain": [
       "3"
      ]
     },
     "execution_count": 13,
     "metadata": {},
     "output_type": "execute_result"
    }
   ],
   "source": [
    "swim_files.index(\"Mike-15-200m-IM.txt\")"
   ]
  },
  {
   "cell_type": "code",
   "execution_count": null,
   "id": "9a1fb397",
   "metadata": {},
   "outputs": [],
   "source": [
    "help(swim_files.clear)"
   ]
  },
  {
   "cell_type": "code",
   "execution_count": null,
   "id": "c1a75824",
   "metadata": {},
   "outputs": [],
   "source": [
    "help(swim_files.remove)"
   ]
  },
  {
   "cell_type": "code",
   "execution_count": 15,
   "id": "48bb5f38",
   "metadata": {},
   "outputs": [
    {
     "name": "stdout",
     "output_type": "stream",
     "text": [
      "Processing: Katie-9-50m-Back.txt\n",
      "Processing: Calvin-9-50m-Fly.txt\n",
      "Processing: Hannah-13-100m-Free.txt\n",
      "Processing: Mike-15-200m-IM.txt\n",
      "Processing: Darius-13-100m-Fly.txt\n",
      "Processing: Mike-15-100m-Free.txt\n",
      "Processing: Elba-14-100m-Free.txt\n",
      "Processing: Abi-10-50m-Back.txt\n",
      "Processing: Erika-15-100m-Breast.txt\n",
      "Processing: Darius-13-200m-IM.txt\n",
      "Processing: Ruth-13-100m-Free.txt\n",
      "Processing: Mike-15-200m-Free.txt\n",
      "Processing: Maria-9-50m-Free.txt\n",
      "Processing: Alison-14-100m-Free.txt\n",
      "Processing: Emma-13-100m-Free.txt\n",
      "Processing: Katie-9-50m-Breast.txt\n",
      "Processing: Blake-15-100m-Back.txt\n",
      "Processing: Mike-15-100m-Fly.txt\n",
      "Processing: Hannah-13-100m-Back.txt\n",
      "Processing: Mike-15-100m-Back.txt\n",
      "Processing: Katie-9-100m-Free.txt\n",
      "Processing: Lizzie-14-100m-Free.txt\n",
      "Processing: Ali-12-100m-Back.txt\n",
      "Processing: Ruth-13-400m-Free.txt\n",
      "Processing: Blake-15-100m-Free.txt\n",
      "Processing: Calvin-9-50m-Free.txt\n",
      "Processing: Katie-9-100m-Breast.txt\n",
      "Processing: Erika-15-200m-Breast.txt\n",
      "Processing: Darius-13-100m-Back.txt\n",
      "Processing: Chris-17-100m-Back.txt\n",
      "Processing: Aurora-13-50m-Free.txt\n",
      "Processing: Lizzie-14-100m-Back.txt\n",
      "Processing: Abi-10-100m-Breast.txt\n",
      "Processing: Tasmin-15-100m-Free.txt\n",
      "Processing: Tasmin-15-200m-Breast.txt\n",
      "Processing: Ruth-13-200m-Back.txt\n",
      "Processing: Ruth-13-100m-Back.txt\n",
      "Processing: Tasmin-15-100m-Back.txt\n",
      "Processing: Katie-9-50m-Free.txt\n",
      "Processing: Katie-9-50m-Fly.txt\n",
      "Processing: Blake-15-100m-Fly.txt\n",
      "Processing: Alison-14-100m-Breast.txt\n",
      "Processing: Ali-12-100m-Free.txt\n",
      "Processing: Bill-18-200m-Back.txt\n",
      "Processing: Chris-17-100m-Breast.txt\n",
      "Processing: Emma-13-100m-Breast.txt\n",
      "Processing: Calvin-9-50m-Back.txt\n",
      "Processing: Abi-10-50m-Breast.txt\n",
      "Processing: Darius-13-100m-Breast.txt\n",
      "Processing: Bill-18-100m-Back.txt\n",
      "Processing: Abi-10-50m-Free.txt\n",
      "Processing: Tasmin-15-100m-Breast.txt\n",
      "Processing: Carl-15-100m-Back.txt\n",
      "Processing: Erika-15-100m-Free.txt\n",
      "Processing: Katie-9-100m-Back.txt\n",
      "Processing: Dave-17-200m-Back.txt\n",
      "Processing: Ruth-13-200m-Free.txt\n",
      "Processing: Owen-15-100m-Free.txt\n",
      "Processing: Dave-17-100m-Free.txt\n",
      "Processing: Abi-10-100m-Back.txt\n"
     ]
    }
   ],
   "source": [
    "for s in swim_files:\n",
    "    print(\"Processing:\", s)\n",
    "    swimclub.read_swim_data(s)\n"
   ]
  },
  {
   "cell_type": "code",
   "execution_count": 16,
   "id": "9891a4f2",
   "metadata": {},
   "outputs": [
    {
     "name": "stdout",
     "output_type": "stream",
     "text": [
      "Help on class enumerate in module builtins:\n",
      "\n",
      "class enumerate(object)\n",
      " |  enumerate(iterable, start=0)\n",
      " |\n",
      " |  Return an enumerate object.\n",
      " |\n",
      " |    iterable\n",
      " |      an object supporting iteration\n",
      " |\n",
      " |  The enumerate object yields pairs containing a count (from start, which\n",
      " |  defaults to zero) and a value yielded by the iterable argument.\n",
      " |\n",
      " |  enumerate is useful for obtaining an indexed list:\n",
      " |      (0, seq[0]), (1, seq[1]), (2, seq[2]), ...\n",
      " |\n",
      " |  Methods defined here:\n",
      " |\n",
      " |  __getattribute__(self, name, /)\n",
      " |      Return getattr(self, name).\n",
      " |\n",
      " |  __iter__(self, /)\n",
      " |      Implement iter(self).\n",
      " |\n",
      " |  __next__(self, /)\n",
      " |      Implement next(self).\n",
      " |\n",
      " |  __reduce__(...)\n",
      " |      Return state information for pickling.\n",
      " |\n",
      " |  ----------------------------------------------------------------------\n",
      " |  Class methods defined here:\n",
      " |\n",
      " |  __class_getitem__(...)\n",
      " |      See PEP 585\n",
      " |\n",
      " |  ----------------------------------------------------------------------\n",
      " |  Static methods defined here:\n",
      " |\n",
      " |  __new__(*args, **kwargs)\n",
      " |      Create and return a new object.  See help(type) for accurate signature.\n",
      "\n"
     ]
    }
   ],
   "source": [
    "help(enumerate)"
   ]
  },
  {
   "cell_type": "code",
   "execution_count": 17,
   "id": "c6d97f41",
   "metadata": {},
   "outputs": [
    {
     "name": "stdout",
     "output_type": "stream",
     "text": [
      "1 Processing: Katie-9-50m-Back.txt\n",
      "2 Processing: Calvin-9-50m-Fly.txt\n",
      "3 Processing: Hannah-13-100m-Free.txt\n",
      "4 Processing: Mike-15-200m-IM.txt\n",
      "5 Processing: Darius-13-100m-Fly.txt\n",
      "6 Processing: Mike-15-100m-Free.txt\n",
      "7 Processing: Elba-14-100m-Free.txt\n",
      "8 Processing: Abi-10-50m-Back.txt\n",
      "9 Processing: Erika-15-100m-Breast.txt\n",
      "10 Processing: Darius-13-200m-IM.txt\n",
      "11 Processing: Ruth-13-100m-Free.txt\n",
      "12 Processing: Mike-15-200m-Free.txt\n",
      "13 Processing: Maria-9-50m-Free.txt\n",
      "14 Processing: Alison-14-100m-Free.txt\n",
      "15 Processing: Emma-13-100m-Free.txt\n",
      "16 Processing: Katie-9-50m-Breast.txt\n",
      "17 Processing: Blake-15-100m-Back.txt\n",
      "18 Processing: Mike-15-100m-Fly.txt\n",
      "19 Processing: Hannah-13-100m-Back.txt\n",
      "20 Processing: Mike-15-100m-Back.txt\n",
      "21 Processing: Katie-9-100m-Free.txt\n",
      "22 Processing: Lizzie-14-100m-Free.txt\n",
      "23 Processing: Ali-12-100m-Back.txt\n",
      "24 Processing: Ruth-13-400m-Free.txt\n",
      "25 Processing: Blake-15-100m-Free.txt\n",
      "26 Processing: Calvin-9-50m-Free.txt\n",
      "27 Processing: Katie-9-100m-Breast.txt\n",
      "28 Processing: Erika-15-200m-Breast.txt\n",
      "29 Processing: Darius-13-100m-Back.txt\n",
      "30 Processing: Chris-17-100m-Back.txt\n",
      "31 Processing: Aurora-13-50m-Free.txt\n",
      "32 Processing: Lizzie-14-100m-Back.txt\n",
      "33 Processing: Abi-10-100m-Breast.txt\n",
      "34 Processing: Tasmin-15-100m-Free.txt\n",
      "35 Processing: Tasmin-15-200m-Breast.txt\n",
      "36 Processing: Ruth-13-200m-Back.txt\n",
      "37 Processing: Ruth-13-100m-Back.txt\n",
      "38 Processing: Tasmin-15-100m-Back.txt\n",
      "39 Processing: Katie-9-50m-Free.txt\n",
      "40 Processing: Katie-9-50m-Fly.txt\n",
      "41 Processing: Blake-15-100m-Fly.txt\n",
      "42 Processing: Alison-14-100m-Breast.txt\n",
      "43 Processing: Ali-12-100m-Free.txt\n",
      "44 Processing: Bill-18-200m-Back.txt\n",
      "45 Processing: Chris-17-100m-Breast.txt\n",
      "46 Processing: Emma-13-100m-Breast.txt\n",
      "47 Processing: Calvin-9-50m-Back.txt\n",
      "48 Processing: Abi-10-50m-Breast.txt\n",
      "49 Processing: Darius-13-100m-Breast.txt\n",
      "50 Processing: Bill-18-100m-Back.txt\n",
      "51 Processing: Abi-10-50m-Free.txt\n",
      "52 Processing: Tasmin-15-100m-Breast.txt\n",
      "53 Processing: Carl-15-100m-Back.txt\n",
      "54 Processing: Erika-15-100m-Free.txt\n",
      "55 Processing: Katie-9-100m-Back.txt\n",
      "56 Processing: Dave-17-200m-Back.txt\n",
      "57 Processing: Ruth-13-200m-Free.txt\n",
      "58 Processing: Owen-15-100m-Free.txt\n",
      "59 Processing: Dave-17-100m-Free.txt\n",
      "60 Processing: Abi-10-100m-Back.txt\n"
     ]
    }
   ],
   "source": [
    "for n, s in enumerate(swim_files, start=1):\n",
    "    print(n, \"Processing:\", s)\n",
    "    swimclub.read_swim_data(s)\n"
   ]
  },
  {
   "cell_type": "code",
   "execution_count": null,
   "id": "47f31d98",
   "metadata": {},
   "outputs": [],
   "source": []
  }
 ],
 "metadata": {
  "kernelspec": {
   "display_name": "jupyter",
   "language": "python",
   "name": "python3"
  },
  "language_info": {
   "codemirror_mode": {
    "name": "ipython",
    "version": 3
   },
   "file_extension": ".py",
   "mimetype": "text/x-python",
   "name": "python",
   "nbconvert_exporter": "python",
   "pygments_lexer": "ipython3",
   "version": "3.12.3"
  }
 },
 "nbformat": 4,
 "nbformat_minor": 5
}
